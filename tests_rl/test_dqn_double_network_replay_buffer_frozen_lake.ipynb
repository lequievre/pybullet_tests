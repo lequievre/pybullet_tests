{
 "cells": [
  {
   "cell_type": "code",
   "execution_count": 4,
   "id": "1bbf530f",
   "metadata": {},
   "outputs": [],
   "source": [
    "# Laurent LEQUIEVRE\n",
    "# Research Engineer, CNRS (France)\n",
    "# Institut Pascal UMR6602\n",
    "# laurent.lequievre@uca.fr\n",
    "\n",
    "# https://unnatsingh.medium.com/deep-q-network-with-pytorch-d1ca6f40bfda\n",
    "\n",
    "# https://github.com/markusbuchholz/deep-reinforcement-learning/blob/master/dqn/solution/dqn_agent.py"
   ]
  },
  {
   "cell_type": "code",
   "execution_count": null,
   "id": "97be0bd6",
   "metadata": {},
   "outputs": [],
   "source": []
  },
  {
   "cell_type": "code",
   "execution_count": 16,
   "id": "3c2a7446",
   "metadata": {},
   "outputs": [],
   "source": [
    "import numpy as np\n",
    "import random \n",
    "from collections import namedtuple, deque \n",
    "import torch\n",
    "import torch.nn.functional as F\n",
    "import torch.optim as optim"
   ]
  },
  {
   "cell_type": "code",
   "execution_count": 18,
   "id": "a84fd66c",
   "metadata": {},
   "outputs": [
    {
     "name": "stdout",
     "output_type": "stream",
     "text": [
      "device = cuda:0\n"
     ]
    }
   ],
   "source": [
    "device = torch.device(\"cuda:0\" if torch.cuda.is_available() else \"cpu\")\n",
    "print(\"device = {}\".format(device))"
   ]
  },
  {
   "cell_type": "code",
   "execution_count": 12,
   "id": "21a665c9",
   "metadata": {},
   "outputs": [],
   "source": [
    "class ReplayBuffer:\n",
    "    \"\"\"Fixed -size buffe to store experience tuples.\"\"\"\n",
    "    \n",
    "    def __init__(self, action_size, buffer_size, batch_size, seed):\n",
    "        \"\"\"Initialize a ReplayBuffer object.\n",
    "        \n",
    "        Params\n",
    "        ======\n",
    "            action_size (int): dimension of each action\n",
    "            buffer_size (int): maximum size of buffer\n",
    "            batch_size (int): size of each training batch\n",
    "            seed (int): random seed\n",
    "        \"\"\"\n",
    "        \n",
    "        self.action_size = action_size\n",
    "        self.memory = deque(maxlen=buffer_size)\n",
    "        self.batch_size = batch_size\n",
    "        self.experiences = namedtuple(\"Experience\", field_names=[\"state\",\n",
    "                                                               \"action\",\n",
    "                                                               \"reward\",\n",
    "                                                               \"next_state\",\n",
    "                                                               \"done\"])\n",
    "        self.seed = random.seed(seed)\n",
    "        \n",
    "    def add(self,state, action, reward, next_state,done):\n",
    "        \"\"\"Add a new experience to memory.\"\"\"\n",
    "        e = self.experiences(state,action,reward,next_state,done)\n",
    "        self.memory.append(e)\n",
    "        \n",
    "    def sample(self):\n",
    "        \"\"\"Randomly sample a batch of experiences from memory\"\"\"\n",
    "        experiences = random.sample(self.memory,k=self.batch_size)\n",
    "        \n",
    "        states = torch.from_numpy(np.vstack([e.state for e in experiences if e is not None])).float().to(device)\n",
    "        actions = torch.from_numpy(np.vstack([e.action for e in experiences if e is not None])).long().to(device)\n",
    "        rewards = torch.from_numpy(np.vstack([e.reward for e in experiences if e is not None])).float().to(device)\n",
    "        next_states = torch.from_numpy(np.vstack([e.next_state for e in experiences if e is not None])).float().to(device)\n",
    "        dones = torch.from_numpy(np.vstack([e.done for e in experiences if e is not None]).astype(np.uint8)).float().to(device)\n",
    "        \n",
    "        return (states,actions,rewards,next_states,dones)\n",
    "    \n",
    "    def __len__(self):\n",
    "        \"\"\"Return the current size of internal memory.\"\"\"\n",
    "        return len(self.memory)"
   ]
  },
  {
   "cell_type": "code",
   "execution_count": 13,
   "id": "8a446417",
   "metadata": {},
   "outputs": [
    {
     "name": "stdout",
     "output_type": "stream",
     "text": [
      "The state of E is 2\n",
      "The action of E is 3\n",
      "The reward of E is -1\n",
      "The next state of E is 5\n",
      "The done of E is False\n"
     ]
    }
   ],
   "source": [
    "# https://www.geeksforgeeks.org/namedtuple-in-python/\n",
    "# Declaring namedtuple()  \n",
    "Experience = namedtuple(\"Experience\", field_names=[\"state\",\n",
    "                                                               \"action\",\n",
    "                                                               \"reward\",\n",
    "                                                               \"next_state\",\n",
    "                                                               \"done\"])\n",
    "\n",
    "# Adding values  \n",
    "E = Experience(2,3,-1,5,False)  \n",
    "      \n",
    "# Access using index  \n",
    "print (\"The state of E is {}\".format(E.state))\n",
    "print (\"The action of E is {}\".format(E.action))\n",
    "print (\"The reward of E is {}\".format(E.reward))\n",
    "print (\"The next state of E is {}\".format(E.next_state))\n",
    "print (\"The done of E is {}\".format(E.done))\n"
   ]
  },
  {
   "cell_type": "code",
   "execution_count": 14,
   "id": "c88cafa8",
   "metadata": {},
   "outputs": [
    {
     "data": {
      "text/plain": [
       "array([[1, 2, 3],\n",
       "       [4, 5, 6]])"
      ]
     },
     "execution_count": 14,
     "metadata": {},
     "output_type": "execute_result"
    }
   ],
   "source": [
    "# numpy vstack : Stack arrays in sequence vertically (row wise).\n",
    "# https://scipython.com/book/chapter-6-numpy/examples/vstack-and-hstack/\n",
    "a = np.array([1, 2, 3])\n",
    "b = np.array([4, 5, 6])\n",
    "np.vstack((a,b))"
   ]
  },
  {
   "cell_type": "code",
   "execution_count": 22,
   "id": "78dfb06d",
   "metadata": {},
   "outputs": [],
   "source": [
    "SEED = 30\n",
    "ACTION_SIZE = 4\n",
    "BUFFER_SIZE = 1000\n",
    "BATCH_SIZE = 5\n",
    "\n",
    "buffer = ReplayBuffer(ACTION_SIZE, BUFFER_SIZE, BATCH_SIZE, SEED)\n",
    "\n",
    "states = [1, 2, 3, 4, 5, 6, 7, 8 , 9 , 10, 11, 12, 13, 14, 15, 16, 17, 18, 19, 20]\n",
    "actions = [1, 2, 3, 4, 5, 6, 7, 8 , 9 , 10, 11, 12, 13, 14, 15, 16, 17, 18, 19, 20]\n",
    "rewards = [1, 2, 3, 4, 5, 6, 7, 8 , 9 , 10, 11, 12, 13, 14, 15, 16, 17, 18, 19, 20]\n",
    "next_states = [1, 2, 3, 4, 5, 6, 7, 8 , 9 , 10, 11, 12, 13, 14, 15, 16, 17, 18, 19, 20]\n",
    "dones = [False, False, False, False, False, False, False, False, False, False,False, False, False, False, False,False, False, False, False, False]\n",
    "for i in range(20):\n",
    "    buffer.add(states[i], actions[i], rewards[i], next_states[i], dones[i])"
   ]
  },
  {
   "cell_type": "code",
   "execution_count": 24,
   "id": "e202926b",
   "metadata": {},
   "outputs": [
    {
     "name": "stdout",
     "output_type": "stream",
     "text": [
      "tensor([[ 2.],\n",
      "        [13.],\n",
      "        [19.],\n",
      "        [ 5.],\n",
      "        [ 3.]], device='cuda:0')\n",
      "tensor([[ 2],\n",
      "        [13],\n",
      "        [19],\n",
      "        [ 5],\n",
      "        [ 3]], device='cuda:0')\n",
      "tensor([[ 2.],\n",
      "        [13.],\n",
      "        [19.],\n",
      "        [ 5.],\n",
      "        [ 3.]], device='cuda:0')\n",
      "tensor([[ 2.],\n",
      "        [13.],\n",
      "        [19.],\n",
      "        [ 5.],\n",
      "        [ 3.]], device='cuda:0')\n",
      "tensor([[0.],\n",
      "        [0.],\n",
      "        [0.],\n",
      "        [0.],\n",
      "        [0.]], device='cuda:0')\n"
     ]
    }
   ],
   "source": [
    "s, a, r, ns, d = buffer.sample()\n",
    "print(s)\n",
    "print(a)\n",
    "print(r)\n",
    "print(ns)\n",
    "print(d)"
   ]
  },
  {
   "cell_type": "code",
   "execution_count": null,
   "id": "fa9b2b5c",
   "metadata": {},
   "outputs": [],
   "source": []
  }
 ],
 "metadata": {
  "kernelspec": {
   "display_name": "Python 3 (ipykernel)",
   "language": "python",
   "name": "python3"
  },
  "language_info": {
   "codemirror_mode": {
    "name": "ipython",
    "version": 3
   },
   "file_extension": ".py",
   "mimetype": "text/x-python",
   "name": "python",
   "nbconvert_exporter": "python",
   "pygments_lexer": "ipython3",
   "version": "3.8.10"
  }
 },
 "nbformat": 4,
 "nbformat_minor": 5
}
