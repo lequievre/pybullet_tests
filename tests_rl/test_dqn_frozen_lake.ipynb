{
 "cells": [
  {
   "cell_type": "code",
   "execution_count": null,
   "id": "f49fb2fc",
   "metadata": {},
   "outputs": [],
   "source": [
    "# Laurent LEQUIEVRE\n",
    "# Research Engineer, CNRS (France)\n",
    "# Institut Pascal UMR6602\n",
    "# laurent.lequievre@uca.fr\n",
    "\n",
    "# Solution based on :\n",
    "# https://www.kaggle.com/wuhao1542/pytorch-rl-0-frozenlake-q-network-learning"
   ]
  },
  {
   "cell_type": "code",
   "execution_count": 88,
   "id": "e486735f",
   "metadata": {},
   "outputs": [],
   "source": [
    "import torch\n",
    "import torch.nn as nn\n",
    "import torch.nn.functional as F\n",
    "from torch.autograd import Variable\n",
    "from torch import optim\n",
    "import numpy as np "
   ]
  },
  {
   "cell_type": "code",
   "execution_count": 89,
   "id": "e43df71e",
   "metadata": {},
   "outputs": [],
   "source": [
    "import gym\n",
    "from gym.envs.registration import register"
   ]
  },
  {
   "cell_type": "code",
   "execution_count": 90,
   "id": "288e06b2",
   "metadata": {},
   "outputs": [],
   "source": [
    "import matplotlib.pyplot as plt"
   ]
  },
  {
   "cell_type": "code",
   "execution_count": 91,
   "id": "d147bfe9",
   "metadata": {},
   "outputs": [
    {
     "name": "stdout",
     "output_type": "stream",
     "text": [
      "Remove FrozenLakeNotSlippery-v0 from registry\n"
     ]
    }
   ],
   "source": [
    "# If you got that error after a registration :\n",
    "# Error: Cannot re-register id: FrozenLakeNotSlippery-v0\n",
    "# So you need to delete an env registered\n",
    "\n",
    "env_dict = gym.envs.registration.registry.env_specs.copy()\n",
    "\n",
    "for env in env_dict:\n",
    "    if 'FrozenLakeNotSlippery-v0' in env:\n",
    "        print(\"Remove {} from registry\".format(env))\n",
    "        del gym.envs.registration.registry.env_specs[env]\n"
   ]
  },
  {
   "cell_type": "code",
   "execution_count": 92,
   "id": "267aee43",
   "metadata": {},
   "outputs": [],
   "source": [
    "register(\n",
    "   id=\"FrozenLakeNotSlippery-v0\",\n",
    "   entry_point='gym.envs.toy_text:FrozenLakeEnv',\n",
    "   kwargs={'map_name': '4x4', 'is_slippery': False},\n",
    ")\n",
    "\n",
    "env = gym.make(\"FrozenLakeNotSlippery-v0\")"
   ]
  },
  {
   "cell_type": "code",
   "execution_count": 93,
   "id": "2296e8c7",
   "metadata": {},
   "outputs": [
    {
     "name": "stdout",
     "output_type": "stream",
     "text": [
      "observation space = 16, action space = 4\n"
     ]
    }
   ],
   "source": [
    "observation_space = env.observation_space.n\n",
    "action_space = env.action_space.n\n",
    "\n",
    "print(\"observation space = {}, action space = {}\".format(observation_space, action_space))"
   ]
  },
  {
   "cell_type": "code",
   "execution_count": 94,
   "id": "f9bf2979",
   "metadata": {},
   "outputs": [
    {
     "name": "stdout",
     "output_type": "stream",
     "text": [
      "\n",
      "\u001b[41mS\u001b[0mFFF\n",
      "FHFH\n",
      "FFFH\n",
      "HFFG\n"
     ]
    }
   ],
   "source": [
    "env.reset()\n",
    "env.render()"
   ]
  },
  {
   "cell_type": "code",
   "execution_count": 95,
   "id": "9704ef04",
   "metadata": {},
   "outputs": [
    {
     "name": "stdout",
     "output_type": "stream",
     "text": [
      "[[b'S' b'F' b'F' b'F']\n",
      " [b'F' b'H' b'F' b'H']\n",
      " [b'F' b'F' b'F' b'H']\n",
      " [b'H' b'F' b'F' b'G']]\n",
      "[['S', 'F', 'F', 'F'], ['F', 'H', 'F', 'H'], ['F', 'F', 'F', 'H'], ['H', 'F', 'F', 'G']]\n",
      "15\n"
     ]
    }
   ],
   "source": [
    "print(env.desc)\n",
    "\n",
    "desc = env.desc.tolist()\n",
    "desc = [[c.decode(\"utf-8\") for c in line] for line in desc]\n",
    "print(desc)\n",
    "\n",
    "index_of_goal = env.observation_space.n - 1\n",
    "print(index_of_goal)"
   ]
  },
  {
   "cell_type": "code",
   "execution_count": 96,
   "id": "a37b80a1",
   "metadata": {},
   "outputs": [
    {
     "name": "stdout",
     "output_type": "stream",
     "text": [
      "Indexes of Holes = [5, 7, 11, 12]\n"
     ]
    }
   ],
   "source": [
    "def get_index_of_holes(an_env):\n",
    "    \n",
    "    env_list = [[c.decode(\"utf-8\") for c in line] for line in an_env.desc]\n",
    "    index_holes = []\n",
    "    \n",
    "    size = np.int64(np.sqrt(an_env.observation_space.n))\n",
    "    \n",
    "    for i in range(size):\n",
    "        for j in range(size):\n",
    "            c = env_list[i][j]\n",
    "            if (c == 'H'):\n",
    "                index_holes.append(i*size+j)\n",
    "    return index_holes\n",
    "\n",
    "\n",
    "l = get_index_of_holes(env)\n",
    "\n",
    "print(\"Indexes of Holes = {}\".format(l))"
   ]
  },
  {
   "cell_type": "code",
   "execution_count": 97,
   "id": "131c6335",
   "metadata": {},
   "outputs": [],
   "source": [
    "def uniform_linear_layer(linear_layer):\n",
    "    linear_layer.weight.data.uniform_()\n",
    "    linear_layer.bias.data.fill_(-0.02)\n",
    "\n",
    "class Agent(nn.Module):\n",
    "    def __init__(self, observation_space_size, action_space_size):\n",
    "        super(Agent, self).__init__()\n",
    "        self.observation_space_size = observation_space_size\n",
    "        self.hidden_size = observation_space_size\n",
    "        self.l1 = nn.Linear(in_features=observation_space_size, out_features=self.hidden_size)\n",
    "        self.l2 = nn.Linear(in_features=self.hidden_size, out_features=action_space_size)\n",
    "        uniform_linear_layer(self.l1)\n",
    "        uniform_linear_layer(self.l2)\n",
    "    \n",
    "    def forward(self, state):\n",
    "        obs_emb = F.one_hot(torch.LongTensor([int(state)]), num_classes=self.observation_space_size)\n",
    "        out1 = torch.sigmoid(self.l1(obs_emb.float()))\n",
    "        return self.l2(out1).view((-1)) # 1 x ACTION_SPACE_SIZE == 1 x 4  =>  4"
   ]
  },
  {
   "cell_type": "code",
   "execution_count": 121,
   "id": "c35fa10a",
   "metadata": {},
   "outputs": [],
   "source": [
    "def take_action(action, env, indexes_of_holes):\n",
    "    new_state, reward, done, info = env.step(action)\n",
    "    index_of_goal = env.observation_space.n - 1\n",
    "    # Reward function\n",
    "    # if new_state is a Hole\n",
    "    #if new_state in [5, 7, 11, 12]:\n",
    "    if new_state in indexes_of_holes:\n",
    "        reward = -1\n",
    "    # else if new_state is the Goal (Final State)\n",
    "    elif new_state == index_of_goal:\n",
    "        reward = 1\n",
    "    # else penalize research\n",
    "    else:\n",
    "        reward = -0.01\n",
    "    return new_state, reward, done, info\n",
    "\n",
    "class Trainer:\n",
    "    def __init__(self, env):\n",
    "        self.agent = Agent(env.observation_space.n, env.action_space.n)\n",
    "        self.optimizer = optim.Adam(params=self.agent.parameters())\n",
    "        self.env = env\n",
    "        self.indexes_of_holes = get_index_of_holes(self.env)\n",
    "        self.gamma = 0.99\n",
    "        self.scores = []  # list containing scores from each episode\n",
    "        self.mean_losses = [] # list containing mean loss from each episode\n",
    "        self.losses = []\n",
    "    \n",
    "    def train(self, epoch):\n",
    "        self.scores = []\n",
    "        self.mean_losses = []\n",
    "        for i in range(epoch):\n",
    "            print('.', end='')\n",
    "            current_state = self.env.reset()\n",
    "            j = 0\n",
    "            score = 0\n",
    "            self.losses = []\n",
    "            while j < 200:\n",
    "                # perform chosen action\n",
    "                an_action = self.choose_action(current_state)\n",
    "                next_state, reward, done, _ = take_action(an_action,self.env,self.indexes_of_holes)\n",
    "                \n",
    "                # calculate target and loss\n",
    "                target_q = reward + self.gamma * torch.max(self.agent(next_state).detach()) # detach from the computing flow\n",
    "                loss = F.smooth_l1_loss(self.agent(current_state)[an_action], target_q)\n",
    "                #print(\"loss = {}\".format(loss))\n",
    "                self.losses.append(loss.detach().numpy())\n",
    "                \n",
    "                # update model to optimize Q\n",
    "                self.optimizer.zero_grad()\n",
    "                loss.backward()\n",
    "                self.optimizer.step()\n",
    "                \n",
    "                # update state\n",
    "                current_state = next_state\n",
    "                j += 1\n",
    "                score += reward\n",
    "                \n",
    "                if done == True: break\n",
    "            self.scores.append(score)      # save most recent score\n",
    "            mean_loss = np.mean(self.losses) # calculate mean of epoch losses\n",
    "            self.mean_losses.append(mean_loss) # save mean loss of each epoch\n",
    "           \n",
    "        print(\"Train is done !\")\n",
    "\n",
    "    def choose_action(self, s):\n",
    "        if (np.random.rand(1) < 0.1): \n",
    "            #print(\"sample action !\")\n",
    "            return self.env.action_space.sample()\n",
    "        else:\n",
    "            agent_out = self.agent(s).detach()\n",
    "            #print(agent_out)\n",
    "            index_max = np.argmax(agent_out)\n",
    "            #print(\"index max = {}\".format(index_max))\n",
    "            #print(\"torch max action !\")\n",
    "            return index_max.item()\n",
    "        \n",
    "    def update_env(self, env):\n",
    "        self.env = env\n",
    "        self.indexes_of_holes = get_index_of_holes(self.env)"
   ]
  },
  {
   "cell_type": "code",
   "execution_count": 99,
   "id": "53a521c5",
   "metadata": {},
   "outputs": [
    {
     "name": "stdout",
     "output_type": "stream",
     "text": [
      "................................................................................................................................................................................................................................................................................................................................................................................................................................................................................................................................................................................................................................................................................................................................................................................................................................................................................................................................................................................................................................................................................................................................................................................................................................................................................................................................................................................................................................................................................................................................................................................................................................................................................................................................................................................................................................................................................................................................................................................................................................................................................................................................................................................................................................................................................................................................................................................................................................................................................................................................................................................................................................................................................................................................................................................................................................................................................................................................................................................................................................................................................................................................................................................................................................................................................................................................................................................................................................................................................................................................................................................................................................................................................................................................................................................................................................................................................................................................................................................................................................................................................................................................................................................................................................................................................................................................................................................................................................................................................................................................................................................................................................................................................................................................................................................................................................................................................................................................................................................................................................................................................................................................................................................................................................................................................................................................................................................................................................................................................................................................................................................................................................................................................................................................................................................................................................................................................................................................................................................................................................................................................................................................................................................................................................................................................................................................................................................................................................................................................................................................................................................................................................................................................................................................................................................................................................................................................................................................................................................................................................................................................................................................................................................................................................................................................................................................................................................................................................................................................................................................................................................................................................................................................................................................................................................................................................................................................................................................................................................................................................................................................................................................................................................................................................................................................................................................................................................................................................................................................................................................................................................"
     ]
    },
    {
     "name": "stdout",
     "output_type": "stream",
     "text": [
      "................................................................................................................................................................................................................................................................................................................................................................................................................................................................................................................................................................................................................................................................................................................................................................................................................................................................................................................................................................................................................................................................................................................................................................................................................................................................................................................................................................................................................................................................................................................................................................................................................................................................................................................................................................................................................................Train is done !\n"
     ]
    }
   ],
   "source": [
    "# Use Trainer class to train Agent network\n",
    "t = Trainer(env)\n",
    "t.train(10000)"
   ]
  },
  {
   "cell_type": "code",
   "execution_count": 100,
   "id": "c927e049",
   "metadata": {},
   "outputs": [
    {
     "data": {
      "image/png": "[encoded data removed]",
      "text/plain": [
       "<Figure size 432x288 with 1 Axes>"
      ]
     },
     "metadata": {
      "needs_background": "light"
     },
     "output_type": "display_data"
    }
   ],
   "source": [
    "# plot the scores\n",
    "fig = plt.figure()\n",
    "ax = fig.add_subplot(111)\n",
    "plt.plot(np.arange(len(t.scores)), t.scores)\n",
    "plt.ylabel('Score')\n",
    "plt.xlabel('Episode #')\n",
    "plt.show()"
   ]
  },
  {
   "cell_type": "code",
   "execution_count": 101,
   "id": "c5a5ad9a",
   "metadata": {},
   "outputs": [
    {
     "data": {
      "image/png": "[encoded data removed]",
      "text/plain": [
       "<Figure size 432x288 with 1 Axes>"
      ]
     },
     "metadata": {
      "needs_background": "light"
     },
     "output_type": "display_data"
    }
   ],
   "source": [
    "# plot the mean losses\n",
    "fig = plt.figure()\n",
    "ax = fig.add_subplot(111)\n",
    "plt.plot(np.arange(len(t.mean_losses)), t.mean_losses)\n",
    "plt.ylabel('Loss')\n",
    "plt.xlabel('Episode #')\n",
    "plt.show()"
   ]
  },
  {
   "cell_type": "code",
   "execution_count": 102,
   "id": "a568e4ed",
   "metadata": {},
   "outputs": [
    {
     "name": "stdout",
     "output_type": "stream",
     "text": [
      "Remove FrozenLakeNotSlippery-v0 from registry\n",
      "\n",
      "\u001b[41mS\u001b[0mFFF\n",
      "FHFH\n",
      "FFFH\n",
      "HFFG\n",
      "Take action 2\n",
      "  (Right)\n",
      "S\u001b[41mF\u001b[0mFF\n",
      "FHFH\n",
      "FFFH\n",
      "HFFG\n",
      "Take action 2\n",
      "  (Right)\n",
      "SF\u001b[41mF\u001b[0mF\n",
      "FHFH\n",
      "FFFH\n",
      "HFFG\n",
      "Take action 1\n",
      "  (Down)\n",
      "SFFF\n",
      "FH\u001b[41mF\u001b[0mH\n",
      "FFFH\n",
      "HFFG\n",
      "Take action 1\n",
      "  (Down)\n",
      "SFFF\n",
      "FHFH\n",
      "FF\u001b[41mF\u001b[0mH\n",
      "HFFG\n",
      "Take action 1\n",
      "  (Down)\n",
      "SFFF\n",
      "FHFH\n",
      "FFFH\n",
      "HF\u001b[41mF\u001b[0mG\n",
      "Take action 2\n",
      "  (Right)\n",
      "SFFF\n",
      "FHFH\n",
      "FFFH\n",
      "HFF\u001b[41mG\u001b[0m\n"
     ]
    }
   ],
   "source": [
    "# Test the best solution from an Agent (with a neural network)\n",
    "\n",
    "def remove_env():\n",
    "    env_dict = gym.envs.registration.registry.env_specs.copy()\n",
    "\n",
    "    for env in env_dict:\n",
    "        if 'FrozenLakeNotSlippery-v0' in env:\n",
    "            print(\"Remove {} from registry\".format(env))\n",
    "            del gym.envs.registration.registry.env_specs[env]\n",
    "\n",
    "def register_env():\n",
    "    register(\n",
    "           id=\"FrozenLakeNotSlippery-v0\",\n",
    "           entry_point='gym.envs.toy_text:FrozenLakeEnv',\n",
    "           kwargs={'desc' : None, 'map_name': '4x4', 'is_slippery': False},\n",
    "    )\n",
    "    \n",
    "def make_env(env):\n",
    "    env = gym.make(\"FrozenLakeNotSlippery-v0\")\n",
    "\n",
    "    \n",
    "remove_env()\n",
    "register_env()\n",
    "make_env(env)\n",
    "state = env.reset()\n",
    "env.render()\n",
    "\n",
    "done = False\n",
    "\n",
    "while not done:\n",
    "    agent_out = t.agent(state).detach()\n",
    "    action = np.argmax(agent_out).item()\n",
    "    print(\"Take action {}\".format(action))\n",
    "    state, reward, done, _ = env.step(action)\n",
    "    env.render()\n",
    "\n",
    "env.close()\n"
   ]
  },
  {
   "cell_type": "code",
   "execution_count": 14,
   "id": "3407ba98",
   "metadata": {},
   "outputs": [],
   "source": [
    "# Example to Save model\n",
    "#t = Trainer(env)\n",
    "torch.save(t.agent.state_dict(), 'frozen_lake_4_4.pth')"
   ]
  },
  {
   "cell_type": "code",
   "execution_count": 9,
   "id": "7a57c7e4",
   "metadata": {},
   "outputs": [
    {
     "data": {
      "text/plain": [
       "<All keys matched successfully>"
      ]
     },
     "execution_count": 9,
     "metadata": {},
     "output_type": "execute_result"
    }
   ],
   "source": [
    "# Example to Load model\n",
    "t = Trainer(env)\n",
    "t.agent.load_state_dict(torch.load('frozen_lake_4_4.pth'))"
   ]
  },
  {
   "cell_type": "code",
   "execution_count": 103,
   "id": "0773f079",
   "metadata": {},
   "outputs": [
    {
     "name": "stdout",
     "output_type": "stream",
     "text": [
      "Remove FrozenLakeNotSlippery-v1 from registry\n"
     ]
    }
   ],
   "source": [
    "# If you got that error after a registration :\n",
    "# Error: Cannot re-register id: FrozenLakeNotSlippery-v1\n",
    "# So you need to delete an env registered\n",
    "\n",
    "env_dict = gym.envs.registration.registry.env_specs.copy()\n",
    "\n",
    "for env in env_dict:\n",
    "    if 'FrozenLakeNotSlippery-v1' in env:\n",
    "        print(\"Remove {} from registry\".format(env))\n",
    "        del gym.envs.registration.registry.env_specs[env]\n"
   ]
  },
  {
   "cell_type": "code",
   "execution_count": 104,
   "id": "239dbc68",
   "metadata": {},
   "outputs": [],
   "source": [
    "register(\n",
    "   id=\"FrozenLakeNotSlippery-v1\",\n",
    "   entry_point='gym.envs.toy_text:FrozenLakeEnv',\n",
    "   kwargs={'map_name': '8x8', 'is_slippery': False},\n",
    ")\n",
    "\n",
    "env2 = gym.make(\"FrozenLakeNotSlippery-v1\")"
   ]
  },
  {
   "cell_type": "code",
   "execution_count": 105,
   "id": "50af5539",
   "metadata": {},
   "outputs": [
    {
     "name": "stdout",
     "output_type": "stream",
     "text": [
      "\n",
      "\u001b[41mS\u001b[0mFFFFFFF\n",
      "FFFFFFFF\n",
      "FFFHFFFF\n",
      "FFFFFHFF\n",
      "FFFHFFFF\n",
      "FHHFFFHF\n",
      "FHFFHFHF\n",
      "FFFHFFFG\n"
     ]
    }
   ],
   "source": [
    "env2.reset()\n",
    "env2.render()"
   ]
  },
  {
   "cell_type": "code",
   "execution_count": 106,
   "id": "520c753a",
   "metadata": {},
   "outputs": [
    {
     "name": "stdout",
     "output_type": "stream",
     "text": [
      "[[b'S' b'F' b'F' b'F' b'F' b'F' b'F' b'F']\n",
      " [b'F' b'F' b'F' b'F' b'F' b'F' b'F' b'F']\n",
      " [b'F' b'F' b'F' b'H' b'F' b'F' b'F' b'F']\n",
      " [b'F' b'F' b'F' b'F' b'F' b'H' b'F' b'F']\n",
      " [b'F' b'F' b'F' b'H' b'F' b'F' b'F' b'F']\n",
      " [b'F' b'H' b'H' b'F' b'F' b'F' b'H' b'F']\n",
      " [b'F' b'H' b'F' b'F' b'H' b'F' b'H' b'F']\n",
      " [b'F' b'F' b'F' b'H' b'F' b'F' b'F' b'G']]\n",
      "[['S', 'F', 'F', 'F', 'F', 'F', 'F', 'F'], ['F', 'F', 'F', 'F', 'F', 'F', 'F', 'F'], ['F', 'F', 'F', 'H', 'F', 'F', 'F', 'F'], ['F', 'F', 'F', 'F', 'F', 'H', 'F', 'F'], ['F', 'F', 'F', 'H', 'F', 'F', 'F', 'F'], ['F', 'H', 'H', 'F', 'F', 'F', 'H', 'F'], ['F', 'H', 'F', 'F', 'H', 'F', 'H', 'F'], ['F', 'F', 'F', 'H', 'F', 'F', 'F', 'G']]\n",
      "Index of Goal = 63\n",
      "Indexes of Holes = [19, 29, 35, 41, 42, 46, 49, 52, 54, 59]\n"
     ]
    }
   ],
   "source": [
    "print(env2.desc)\n",
    "\n",
    "desc = env2.desc.tolist()\n",
    "desc = [[c.decode(\"utf-8\") for c in line] for line in desc]\n",
    "print(desc)\n",
    "\n",
    "index_of_goal = env2.observation_space.n - 1\n",
    "print(\"Index of Goal = {}\".format(index_of_goal))\n",
    "\n",
    "l2 = get_index_of_holes(env2)\n",
    "print(\"Indexes of Holes = {}\".format(l2))"
   ]
  },
  {
   "cell_type": "code",
   "execution_count": 112,
   "id": "52d69969",
   "metadata": {},
   "outputs": [
    {
     "name": "stdout",
     "output_type": "stream",
     "text": [
      "................................................................................................................................................................................................................................................................................................................................................................................................................................................................................................................................................................................................................................................................................................................................................................................................................................................................................................................................................................................................................................................................................................................................................................................................................................................................................................................................................................................................................................................................................................................................................................................................................................................................................................................................................................................................................................................................................................................................................................................................................................................................................Train is done !\n"
     ]
    }
   ],
   "source": [
    "# Use Trainer class to train Agent network\n",
    "t = Trainer(env2)\n",
    "t.train(2000)"
   ]
  },
  {
   "cell_type": "code",
   "execution_count": 113,
   "id": "b3fe0f21",
   "metadata": {},
   "outputs": [
    {
     "data": {
      "image/png": "[encoded data removed]",
      "text/plain": [
       "<Figure size 432x288 with 1 Axes>"
      ]
     },
     "metadata": {
      "needs_background": "light"
     },
     "output_type": "display_data"
    }
   ],
   "source": [
    "# plot the scores\n",
    "fig = plt.figure()\n",
    "ax = fig.add_subplot(111)\n",
    "plt.plot(np.arange(len(t.scores)), t.scores)\n",
    "plt.ylabel('Score')\n",
    "plt.xlabel('Episode #')\n",
    "plt.show()"
   ]
  },
  {
   "cell_type": "code",
   "execution_count": 114,
   "id": "d023998d",
   "metadata": {},
   "outputs": [
    {
     "data": {
      "image/png": "[encoded data removed]",
      "text/plain": [
       "<Figure size 432x288 with 1 Axes>"
      ]
     },
     "metadata": {
      "needs_background": "light"
     },
     "output_type": "display_data"
    }
   ],
   "source": [
    "# plot the mean losses\n",
    "fig = plt.figure()\n",
    "ax = fig.add_subplot(111)\n",
    "plt.plot(np.arange(len(t.mean_losses)), t.mean_losses)\n",
    "plt.ylabel('Loss')\n",
    "plt.xlabel('Episode #')\n",
    "plt.show()"
   ]
  },
  {
   "cell_type": "code",
   "execution_count": 116,
   "id": "f4b3b137",
   "metadata": {},
   "outputs": [
    {
     "name": "stdout",
     "output_type": "stream",
     "text": [
      "Remove FrozenLakeNotSlippery-v1 from registry\n",
      "\n",
      "\u001b[41mS\u001b[0mFFFFFFF\n",
      "FFFFFFFF\n",
      "FFFHFFFF\n",
      "FFFFFHFF\n",
      "FFFHFFFF\n",
      "FHHFFFHF\n",
      "FHFFHFHF\n",
      "FFFHFFFG\n",
      "Take action 1\n",
      "  (Down)\n",
      "SFFFFFFF\n",
      "\u001b[41mF\u001b[0mFFFFFFF\n",
      "FFFHFFFF\n",
      "FFFFFHFF\n",
      "FFFHFFFF\n",
      "FHHFFFHF\n",
      "FHFFHFHF\n",
      "FFFHFFFG\n",
      "Take action 2\n",
      "  (Right)\n",
      "SFFFFFFF\n",
      "F\u001b[41mF\u001b[0mFFFFFF\n",
      "FFFHFFFF\n",
      "FFFFFHFF\n",
      "FFFHFFFF\n",
      "FHHFFFHF\n",
      "FHFFHFHF\n",
      "FFFHFFFG\n",
      "Take action 1\n",
      "  (Down)\n",
      "SFFFFFFF\n",
      "FFFFFFFF\n",
      "F\u001b[41mF\u001b[0mFHFFFF\n",
      "FFFFFHFF\n",
      "FFFHFFFF\n",
      "FHHFFFHF\n",
      "FHFFHFHF\n",
      "FFFHFFFG\n",
      "Take action 2\n",
      "  (Right)\n",
      "SFFFFFFF\n",
      "FFFFFFFF\n",
      "FF\u001b[41mF\u001b[0mHFFFF\n",
      "FFFFFHFF\n",
      "FFFHFFFF\n",
      "FHHFFFHF\n",
      "FHFFHFHF\n",
      "FFFHFFFG\n",
      "Take action 1\n",
      "  (Down)\n",
      "SFFFFFFF\n",
      "FFFFFFFF\n",
      "FFFHFFFF\n",
      "FF\u001b[41mF\u001b[0mFFHFF\n",
      "FFFHFFFF\n",
      "FHHFFFHF\n",
      "FHFFHFHF\n",
      "FFFHFFFG\n",
      "Take action 2\n",
      "  (Right)\n",
      "SFFFFFFF\n",
      "FFFFFFFF\n",
      "FFFHFFFF\n",
      "FFF\u001b[41mF\u001b[0mFHFF\n",
      "FFFHFFFF\n",
      "FHHFFFHF\n",
      "FHFFHFHF\n",
      "FFFHFFFG\n",
      "Take action 2\n",
      "  (Right)\n",
      "SFFFFFFF\n",
      "FFFFFFFF\n",
      "FFFHFFFF\n",
      "FFFF\u001b[41mF\u001b[0mHFF\n",
      "FFFHFFFF\n",
      "FHHFFFHF\n",
      "FHFFHFHF\n",
      "FFFHFFFG\n",
      "Take action 1\n",
      "  (Down)\n",
      "SFFFFFFF\n",
      "FFFFFFFF\n",
      "FFFHFFFF\n",
      "FFFFFHFF\n",
      "FFFH\u001b[41mF\u001b[0mFFF\n",
      "FHHFFFHF\n",
      "FHFFHFHF\n",
      "FFFHFFFG\n",
      "Take action 1\n",
      "  (Down)\n",
      "SFFFFFFF\n",
      "FFFFFFFF\n",
      "FFFHFFFF\n",
      "FFFFFHFF\n",
      "FFFHFFFF\n",
      "FHHF\u001b[41mF\u001b[0mFHF\n",
      "FHFFHFHF\n",
      "FFFHFFFG\n",
      "Take action 2\n",
      "  (Right)\n",
      "SFFFFFFF\n",
      "FFFFFFFF\n",
      "FFFHFFFF\n",
      "FFFFFHFF\n",
      "FFFHFFFF\n",
      "FHHFF\u001b[41mF\u001b[0mHF\n",
      "FHFFHFHF\n",
      "FFFHFFFG\n",
      "Take action 1\n",
      "  (Down)\n",
      "SFFFFFFF\n",
      "FFFFFFFF\n",
      "FFFHFFFF\n",
      "FFFFFHFF\n",
      "FFFHFFFF\n",
      "FHHFFFHF\n",
      "FHFFH\u001b[41mF\u001b[0mHF\n",
      "FFFHFFFG\n",
      "Take action 1\n",
      "  (Down)\n",
      "SFFFFFFF\n",
      "FFFFFFFF\n",
      "FFFHFFFF\n",
      "FFFFFHFF\n",
      "FFFHFFFF\n",
      "FHHFFFHF\n",
      "FHFFHFHF\n",
      "FFFHF\u001b[41mF\u001b[0mFG\n",
      "Take action 2\n",
      "  (Right)\n",
      "SFFFFFFF\n",
      "FFFFFFFF\n",
      "FFFHFFFF\n",
      "FFFFFHFF\n",
      "FFFHFFFF\n",
      "FHHFFFHF\n",
      "FHFFHFHF\n",
      "FFFHFF\u001b[41mF\u001b[0mG\n",
      "Take action 2\n",
      "  (Right)\n",
      "SFFFFFFF\n",
      "FFFFFFFF\n",
      "FFFHFFFF\n",
      "FFFFFHFF\n",
      "FFFHFFFF\n",
      "FHHFFFHF\n",
      "FHFFHFHF\n",
      "FFFHFFF\u001b[41mG\u001b[0m\n"
     ]
    }
   ],
   "source": [
    "# Test the best solution from an Agent (with a neural network)\n",
    "\n",
    "def remove_env():\n",
    "    env_dict = gym.envs.registration.registry.env_specs.copy()\n",
    "\n",
    "    for env in env_dict:\n",
    "        if 'FrozenLakeNotSlippery-v1' in env:\n",
    "            print(\"Remove {} from registry\".format(env))\n",
    "            del gym.envs.registration.registry.env_specs[env]\n",
    "\n",
    "def register_env():\n",
    "    register(\n",
    "           id=\"FrozenLakeNotSlippery-v1\",\n",
    "           entry_point='gym.envs.toy_text:FrozenLakeEnv',\n",
    "           kwargs={'map_name': '8x8', 'is_slippery': False},\n",
    "    )\n",
    "    \n",
    "def make_env():\n",
    "    env = gym.make(\"FrozenLakeNotSlippery-v1\")\n",
    "    return env\n",
    "\n",
    "\n",
    "remove_env()\n",
    "register_env()\n",
    "env_8_8 = make_env()\n",
    "state = env_8_8.reset()\n",
    "env_8_8.render()\n",
    "\n",
    "done = False\n",
    "\n",
    "while not done:\n",
    "    agent_out = t.agent(state).detach()\n",
    "    action = np.argmax(agent_out).item()\n",
    "    print(\"Take action {}\".format(action))\n",
    "    state, reward, done, _ = env_8_8.step(action)\n",
    "    env_8_8.render()\n",
    "\n",
    "env_8_8.close()"
   ]
  },
  {
   "cell_type": "code",
   "execution_count": 120,
   "id": "16f264d3",
   "metadata": {},
   "outputs": [
    {
     "name": "stdout",
     "output_type": "stream",
     "text": [
      "Remove FrozenLakeNotSlippery-v1 from registry\n",
      "\n",
      "\u001b[41mS\u001b[0mFFFFFFH\n",
      "FHHFFFFF\n",
      "FFFFFFFF\n",
      "HFFFFFFF\n",
      "FHHHFHFH\n",
      "FFFFFHFF\n",
      "FFHFFFFH\n",
      "FFFFHHFG\n",
      "[7, 9, 10, 24, 33, 34, 35, 37, 39, 45, 50, 55, 60, 61]\n",
      "=================\n",
      "\n",
      "\u001b[41mS\u001b[0mFFFFHFF\n",
      "FHFFFFHF\n",
      "FFHFHHFH\n",
      "FFFFFFHF\n",
      "HFFFFHHF\n",
      "FFHFFHHF\n",
      "FHFHFHHF\n",
      "FHFHFFFG\n",
      "[5, 9, 14, 18, 20, 21, 23, 30, 32, 37, 38, 42, 45, 46, 49, 51, 53, 54, 57, 59]\n"
     ]
    }
   ],
   "source": [
    "def remove_env():\n",
    "    env_dict = gym.envs.registration.registry.env_specs.copy()\n",
    "\n",
    "    for env in env_dict:\n",
    "        if 'FrozenLakeNotSlippery-v1' in env:\n",
    "            print(\"Remove {} from registry\".format(env))\n",
    "            del gym.envs.registration.registry.env_specs[env]\n",
    "\n",
    "def register_env():\n",
    "    register(\n",
    "           id=\"FrozenLakeNotSlippery-v1\",\n",
    "           entry_point='gym.envs.toy_text:FrozenLakeEnv',\n",
    "           kwargs={'desc' : None, 'map_name': None, 'is_slippery': False},\n",
    "           #kwargs={'map_name': '8x8', 'is_slippery': False},\n",
    "    )\n",
    "    \n",
    "def make_env():\n",
    "    env = gym.make(\"FrozenLakeNotSlippery-v1\")\n",
    "    return env\n",
    "\n",
    "\n",
    "remove_env()\n",
    "register_env()\n",
    "env_8_8 = make_env()\n",
    "env_8_8.render()\n",
    "print(get_index_of_holes(env_8_8))\n",
    "env_8_8.close()\n",
    "print(\"=================\")\n",
    "env_8_8 = make_env()\n",
    "env_8_8.render()\n",
    "print(get_index_of_holes(env_8_8))\n",
    "env_8_8.close()\n"
   ]
  },
  {
   "cell_type": "code",
   "execution_count": 125,
   "id": "47315be3",
   "metadata": {},
   "outputs": [
    {
     "name": "stdout",
     "output_type": "stream",
     "text": [
      "Remove FrozenLakeNotSlippery-v1 from registry\n",
      "\n",
      "\u001b[41mS\u001b[0mFFHFHHF\n",
      "FFFHHFFH\n",
      "HFFFFFHF\n",
      "FFFFFFFF\n",
      "FHFFHHHH\n",
      "HHFFHFFF\n",
      "FFHFFFFH\n",
      "FFFFFFFG\n",
      "Train env i = 0\n",
      "............................................................................................................................................................................................................................................................................................................Train is done !\n",
      "\n",
      "\u001b[41mS\u001b[0mFFFFFFH\n",
      "FFHHFFFH\n",
      "FHFFFFFF\n",
      "FFFFFFFF\n",
      "FHFFFFFF\n",
      "HFFHFFFF\n",
      "FFFFFFFF\n",
      "FFFFFHFG\n",
      "Train env i = 1\n",
      "............................................................................................................................................................................................................................................................................................................Train is done !\n",
      "\n",
      "\u001b[41mS\u001b[0mFFFFFFH\n",
      "FHFHFFFF\n",
      "FFFFFFFF\n",
      "HHFFHFHF\n",
      "FFFFFHHF\n",
      "FFFFHFFF\n",
      "HFHFFFHF\n",
      "FFFHHFFG\n",
      "Train env i = 2\n",
      "............................................................................................................................................................................................................................................................................................................Train is done !\n",
      "\n",
      "\u001b[41mS\u001b[0mFFFFFFF\n",
      "FFFFFFHF\n",
      "FHFFHFFF\n",
      "HFFFFHFH\n",
      "HFFHHFHF\n",
      "FFFFFFFF\n",
      "FFHFFFHF\n",
      "FFHFHFFG\n",
      "Train env i = 3\n",
      "............................................................................................................................................................................................................................................................................................................Train is done !\n",
      "\n",
      "\u001b[41mS\u001b[0mFHFFFFF\n",
      "FFFHHFFH\n",
      "FFFFHFHH\n",
      "FFFHFHFF\n",
      "FFHHFFFF\n",
      "FFHHHFFF\n",
      "FFFFFFFF\n",
      "FFFFFFFG\n",
      "Train env i = 4\n",
      "............................................................................................................................................................................................................................................................................................................Train is done !\n",
      "\n",
      "\u001b[41mS\u001b[0mHFFHFFF\n",
      "FFHHHHFF\n",
      "FHFFHFFF\n",
      "FHFFHFFH\n",
      "FFFFHFFF\n",
      "FFFFFFFF\n",
      "HFFHFFFF\n",
      "FFFFFFHG\n",
      "Train env i = 5\n",
      "............................................................................................................................................................................................................................................................................................................Train is done !\n",
      "\n",
      "\u001b[41mS\u001b[0mFFFFHFF\n",
      "FFFFFFFF\n",
      "FFFHHHFF\n",
      "FFFFFFFF\n",
      "FFFHFHHF\n",
      "FFFFFFFH\n",
      "HHFFFFHF\n",
      "FFFFFFFG\n",
      "Train env i = 6\n",
      "............................................................................................................................................................................................................................................................................................................Train is done !\n",
      "\n",
      "\u001b[41mS\u001b[0mFFFHFFF\n",
      "FFFHHFFF\n",
      "HFFFFFFF\n",
      "FFFFFHFF\n",
      "FFFFFFFF\n",
      "FFHFFFFF\n",
      "FFFHFFFF\n",
      "FFHFHFHG\n",
      "Train env i = 7\n",
      "............................................................................................................................................................................................................................................................................................................Train is done !\n",
      "\n",
      "\u001b[41mS\u001b[0mHFFFFFH\n",
      "FFFFFFFF\n",
      "FFFFFFHF\n",
      "FHFHFFFF\n",
      "FFFHFFFF\n",
      "FFFHFHFF\n",
      "HFHHFFFF\n",
      "FFFFFFFG\n",
      "Train env i = 8\n",
      "............................................................................................................................................................................................................................................................................................................Train is done !\n",
      "\n",
      "\u001b[41mS\u001b[0mFHFFFHF\n",
      "FFFFFFFF\n",
      "FHFFFFFF\n",
      "FFFFFFFH\n",
      "HFFFFFFF\n",
      "FFFFHFFF\n",
      "FFHFFHFF\n",
      "FFHHFFHG\n",
      "Train env i = 9\n",
      "............................................................................................................................................................................................................................................................................................................Train is done !\n",
      "\n",
      "\u001b[41mS\u001b[0mHFFFFHF\n",
      "FHHFFFFF\n",
      "FFFFHFFF\n",
      "FFHFFHFF\n",
      "HHFFFFFF\n",
      "HFFFFHFF\n",
      "FHFFFFHF\n",
      "FFFFFFFG\n",
      "Train env i = 10\n",
      "............................................................................................................................................................................................................................................................................................................Train is done !\n",
      "\n",
      "\u001b[41mS\u001b[0mFFFFFFF\n",
      "FFFFFFFH\n",
      "FFFFFFFF\n",
      "FFFHFFFH\n",
      "FHFFHFFF\n",
      "FFHFHFFH\n",
      "FHFFFFFF\n",
      "FFHHFFFG\n",
      "Train env i = 11\n",
      "............................................................................................................................................................................................................................................................................................................Train is done !\n",
      "\n",
      "\u001b[41mS\u001b[0mFFFFFFF\n",
      "FFFFHFHF\n",
      "FFFFFFHH\n",
      "FFFFFHFF\n",
      "FFFFFFHF\n",
      "FFHFFHFH\n",
      "HFFFFFFF\n",
      "HFFHHFFG\n",
      "Train env i = 12\n",
      "............................................................................................................................................................................................................................................................................................................Train is done !\n",
      "\n",
      "\u001b[41mS\u001b[0mFFFHFHF\n",
      "FFFHFFFF\n",
      "FFFFHFFH\n",
      "FHFHHFFH\n",
      "FFHFFFFF\n",
      "FFFFFHFF\n",
      "FHFFFFFF\n",
      "FHFFFFFG\n",
      "Train env i = 13\n",
      "............................................................................................................................................................................................................................................................................................................Train is done !\n",
      "\n",
      "\u001b[41mS\u001b[0mFHFFHFF\n",
      "HFFFFFFF\n",
      "FFFFHFFH\n",
      "FHFFFFFF\n",
      "FFFFFFFF\n",
      "HFFFFFFF\n",
      "FHFFFFFF\n",
      "FFFHFHFG\n",
      "Train env i = 14\n",
      "............................................................................................................................................................................................................................................................................................................Train is done !\n",
      "\n",
      "\u001b[41mS\u001b[0mFFHFHFH\n",
      "FFHFFFFF\n",
      "FFHFHFFF\n",
      "FFFHFFFF\n",
      "FHFFFFFF\n",
      "FFFFHFFF\n",
      "FHFFFFFF\n",
      "HFFFFFFG\n",
      "Train env i = 15\n",
      "............................................................................................................................................................................................................................................................................................................Train is done !\n",
      "\n",
      "\u001b[41mS\u001b[0mFFFFHHF\n",
      "FFHFFFHH\n",
      "FFFHFFFF\n",
      "FFFFFFHF\n",
      "FFFFHFFH\n",
      "HFHFFFFF\n",
      "FHFFHFHF\n",
      "HFFFHFFG\n",
      "Train env i = 16\n",
      "............................................................................................................................................................................................................................................................................................................Train is done !\n",
      "\n",
      "\u001b[41mS\u001b[0mFFFFFFF\n",
      "FFFFFFFF\n",
      "FHFHFFFH\n",
      "FFFFHFFF\n",
      "FFFFHFHF\n",
      "FFFFFFFH\n",
      "FFFFFFFF\n",
      "FFHFFFHG\n",
      "Train env i = 17\n",
      "............................................................................................................................................................................................................................................................................................................Train is done !\n",
      "\n",
      "\u001b[41mS\u001b[0mFFFFHFF\n",
      "FHFFFFFF\n",
      "FFFFFHHF\n",
      "FFFHHFFF\n",
      "FHFFHHHF\n",
      "FFHHHFFF\n",
      "FFHFFFFF\n",
      "HFFFFHFG\n",
      "Train env i = 18\n",
      "............................................................................................................................................................................................................................................................................................................Train is done !\n",
      "\n",
      "\u001b[41mS\u001b[0mFHHHFFH\n",
      "FFFFFFFF\n",
      "FHFFFFFF\n",
      "HFFHFFFH\n",
      "FHHFHFFF\n",
      "FFFFFFHF\n",
      "FFHFFFFF\n",
      "HFFHFFFG\n",
      "Train env i = 19\n"
     ]
    },
    {
     "name": "stdout",
     "output_type": "stream",
     "text": [
      "............................................................................................................................................................................................................................................................................................................Train is done !\n",
      "\n",
      "\u001b[41mS\u001b[0mFFFHFFF\n",
      "FFHFFFFF\n",
      "FFFFFFHF\n",
      "HFFHFFFF\n",
      "FFFFFFFF\n",
      "FFFFFHFF\n",
      "HFHFFFFH\n",
      "FFHFFFFG\n",
      "Train env i = 20\n",
      "............................................................................................................................................................................................................................................................................................................Train is done !\n",
      "\n",
      "\u001b[41mS\u001b[0mHFFFFFH\n",
      "FFFFHFFF\n",
      "FHFHFFFF\n",
      "FFFFHFFF\n",
      "FFFFFHFF\n",
      "FHFFHHFF\n",
      "FFFFFHFH\n",
      "HFFFFFFG\n",
      "Train env i = 21\n",
      "............................................................................................................................................................................................................................................................................................................Train is done !\n",
      "\n",
      "\u001b[41mS\u001b[0mFFHFFFF\n",
      "FFFFFHHF\n",
      "FFFFFHFH\n",
      "FFFFFFFH\n",
      "HFHHFHFH\n",
      "HFHFFFFF\n",
      "FFFFFFFH\n",
      "HHFFFFFG\n",
      "Train env i = 22\n",
      "............................................................................................................................................................................................................................................................................................................Train is done !\n",
      "\n",
      "\u001b[41mS\u001b[0mFFFFFFH\n",
      "HFFFHFFF\n",
      "FHFFFFHF\n",
      "FFFFHHFF\n",
      "FFFFFFFF\n",
      "FHFFFHFH\n",
      "HHFFFHFH\n",
      "FFFFFFFG\n",
      "Train env i = 23\n",
      "............................................................................................................................................................................................................................................................................................................Train is done !\n",
      "\n",
      "\u001b[41mS\u001b[0mFFFFFFF\n",
      "FFFHFFFH\n",
      "FFHFFHFF\n",
      "FFFFFFFH\n",
      "HFFFFFFF\n",
      "FFFHFHFH\n",
      "FFFHFFFF\n",
      "FFFFFFFG\n",
      "Train env i = 24\n",
      "....................................................................................................................................................................................."
     ]
    },
    {
     "ename": "KeyboardInterrupt",
     "evalue": "",
     "output_type": "error",
     "traceback": [
      "\u001b[0;31m---------------------------------------------------------------------------\u001b[0m",
      "\u001b[0;31mKeyboardInterrupt\u001b[0m                         Traceback (most recent call last)",
      "\u001b[0;32m/tmp/ipykernel_39938/649935182.py\u001b[0m in \u001b[0;36m<module>\u001b[0;34m\u001b[0m\n\u001b[1;32m     28\u001b[0m     \u001b[0menv_8_8\u001b[0m\u001b[0;34m.\u001b[0m\u001b[0mrender\u001b[0m\u001b[0;34m(\u001b[0m\u001b[0;34m)\u001b[0m\u001b[0;34m\u001b[0m\u001b[0;34m\u001b[0m\u001b[0m\n\u001b[1;32m     29\u001b[0m     \u001b[0mprint\u001b[0m\u001b[0;34m(\u001b[0m\u001b[0;34m\"Train env i = {}\"\u001b[0m\u001b[0;34m.\u001b[0m\u001b[0mformat\u001b[0m\u001b[0;34m(\u001b[0m\u001b[0mi\u001b[0m\u001b[0;34m)\u001b[0m\u001b[0;34m)\u001b[0m\u001b[0;34m\u001b[0m\u001b[0;34m\u001b[0m\u001b[0m\n\u001b[0;32m---> 30\u001b[0;31m     \u001b[0mt\u001b[0m\u001b[0;34m.\u001b[0m\u001b[0mtrain\u001b[0m\u001b[0;34m(\u001b[0m\u001b[0;36m300\u001b[0m\u001b[0;34m)\u001b[0m\u001b[0;34m\u001b[0m\u001b[0;34m\u001b[0m\u001b[0m\n\u001b[0m\u001b[1;32m     31\u001b[0m     \u001b[0menv_8_8\u001b[0m\u001b[0;34m.\u001b[0m\u001b[0mclose\u001b[0m\u001b[0;34m(\u001b[0m\u001b[0;34m)\u001b[0m\u001b[0;34m\u001b[0m\u001b[0;34m\u001b[0m\u001b[0m\n\u001b[1;32m     32\u001b[0m     \u001b[0menv_8_8\u001b[0m \u001b[0;34m=\u001b[0m \u001b[0mmake_env\u001b[0m\u001b[0;34m(\u001b[0m\u001b[0;34m)\u001b[0m\u001b[0;34m\u001b[0m\u001b[0;34m\u001b[0m\u001b[0m\n",
      "\u001b[0;32m/tmp/ipykernel_39938/196630466.py\u001b[0m in \u001b[0;36mtrain\u001b[0;34m(self, epoch)\u001b[0m\n\u001b[1;32m     49\u001b[0m                 \u001b[0mself\u001b[0m\u001b[0;34m.\u001b[0m\u001b[0moptimizer\u001b[0m\u001b[0;34m.\u001b[0m\u001b[0mzero_grad\u001b[0m\u001b[0;34m(\u001b[0m\u001b[0;34m)\u001b[0m\u001b[0;34m\u001b[0m\u001b[0;34m\u001b[0m\u001b[0m\n\u001b[1;32m     50\u001b[0m                 \u001b[0mloss\u001b[0m\u001b[0;34m.\u001b[0m\u001b[0mbackward\u001b[0m\u001b[0;34m(\u001b[0m\u001b[0;34m)\u001b[0m\u001b[0;34m\u001b[0m\u001b[0;34m\u001b[0m\u001b[0m\n\u001b[0;32m---> 51\u001b[0;31m                 \u001b[0mself\u001b[0m\u001b[0;34m.\u001b[0m\u001b[0moptimizer\u001b[0m\u001b[0;34m.\u001b[0m\u001b[0mstep\u001b[0m\u001b[0;34m(\u001b[0m\u001b[0;34m)\u001b[0m\u001b[0;34m\u001b[0m\u001b[0;34m\u001b[0m\u001b[0m\n\u001b[0m\u001b[1;32m     52\u001b[0m \u001b[0;34m\u001b[0m\u001b[0m\n\u001b[1;32m     53\u001b[0m                 \u001b[0;31m# update state\u001b[0m\u001b[0;34m\u001b[0m\u001b[0;34m\u001b[0m\u001b[0;34m\u001b[0m\u001b[0m\n",
      "\u001b[0;32m~/Projects/my_envs/ve_rl/lib/python3.8/site-packages/torch/optim/optimizer.py\u001b[0m in \u001b[0;36mwrapper\u001b[0;34m(*args, **kwargs)\u001b[0m\n\u001b[1;32m     86\u001b[0m                 \u001b[0mprofile_name\u001b[0m \u001b[0;34m=\u001b[0m \u001b[0;34m\"Optimizer.step#{}.step\"\u001b[0m\u001b[0;34m.\u001b[0m\u001b[0mformat\u001b[0m\u001b[0;34m(\u001b[0m\u001b[0mobj\u001b[0m\u001b[0;34m.\u001b[0m\u001b[0m__class__\u001b[0m\u001b[0;34m.\u001b[0m\u001b[0m__name__\u001b[0m\u001b[0;34m)\u001b[0m\u001b[0;34m\u001b[0m\u001b[0;34m\u001b[0m\u001b[0m\n\u001b[1;32m     87\u001b[0m                 \u001b[0;32mwith\u001b[0m \u001b[0mtorch\u001b[0m\u001b[0;34m.\u001b[0m\u001b[0mautograd\u001b[0m\u001b[0;34m.\u001b[0m\u001b[0mprofiler\u001b[0m\u001b[0;34m.\u001b[0m\u001b[0mrecord_function\u001b[0m\u001b[0;34m(\u001b[0m\u001b[0mprofile_name\u001b[0m\u001b[0;34m)\u001b[0m\u001b[0;34m:\u001b[0m\u001b[0;34m\u001b[0m\u001b[0;34m\u001b[0m\u001b[0m\n\u001b[0;32m---> 88\u001b[0;31m                     \u001b[0;32mreturn\u001b[0m \u001b[0mfunc\u001b[0m\u001b[0;34m(\u001b[0m\u001b[0;34m*\u001b[0m\u001b[0margs\u001b[0m\u001b[0;34m,\u001b[0m \u001b[0;34m**\u001b[0m\u001b[0mkwargs\u001b[0m\u001b[0;34m)\u001b[0m\u001b[0;34m\u001b[0m\u001b[0;34m\u001b[0m\u001b[0m\n\u001b[0m\u001b[1;32m     89\u001b[0m             \u001b[0;32mreturn\u001b[0m \u001b[0mwrapper\u001b[0m\u001b[0;34m\u001b[0m\u001b[0;34m\u001b[0m\u001b[0m\n\u001b[1;32m     90\u001b[0m \u001b[0;34m\u001b[0m\u001b[0m\n",
      "\u001b[0;32m~/Projects/my_envs/ve_rl/lib/python3.8/site-packages/torch/autograd/grad_mode.py\u001b[0m in \u001b[0;36mdecorate_context\u001b[0;34m(*args, **kwargs)\u001b[0m\n\u001b[1;32m     26\u001b[0m         \u001b[0;32mdef\u001b[0m \u001b[0mdecorate_context\u001b[0m\u001b[0;34m(\u001b[0m\u001b[0;34m*\u001b[0m\u001b[0margs\u001b[0m\u001b[0;34m,\u001b[0m \u001b[0;34m**\u001b[0m\u001b[0mkwargs\u001b[0m\u001b[0;34m)\u001b[0m\u001b[0;34m:\u001b[0m\u001b[0;34m\u001b[0m\u001b[0;34m\u001b[0m\u001b[0m\n\u001b[1;32m     27\u001b[0m             \u001b[0;32mwith\u001b[0m \u001b[0mself\u001b[0m\u001b[0;34m.\u001b[0m\u001b[0m__class__\u001b[0m\u001b[0;34m(\u001b[0m\u001b[0;34m)\u001b[0m\u001b[0;34m:\u001b[0m\u001b[0;34m\u001b[0m\u001b[0;34m\u001b[0m\u001b[0m\n\u001b[0;32m---> 28\u001b[0;31m                 \u001b[0;32mreturn\u001b[0m \u001b[0mfunc\u001b[0m\u001b[0;34m(\u001b[0m\u001b[0;34m*\u001b[0m\u001b[0margs\u001b[0m\u001b[0;34m,\u001b[0m \u001b[0;34m**\u001b[0m\u001b[0mkwargs\u001b[0m\u001b[0;34m)\u001b[0m\u001b[0;34m\u001b[0m\u001b[0;34m\u001b[0m\u001b[0m\n\u001b[0m\u001b[1;32m     29\u001b[0m         \u001b[0;32mreturn\u001b[0m \u001b[0mcast\u001b[0m\u001b[0;34m(\u001b[0m\u001b[0mF\u001b[0m\u001b[0;34m,\u001b[0m \u001b[0mdecorate_context\u001b[0m\u001b[0;34m)\u001b[0m\u001b[0;34m\u001b[0m\u001b[0;34m\u001b[0m\u001b[0m\n\u001b[1;32m     30\u001b[0m \u001b[0;34m\u001b[0m\u001b[0m\n",
      "\u001b[0;32m~/Projects/my_envs/ve_rl/lib/python3.8/site-packages/torch/optim/adam.py\u001b[0m in \u001b[0;36mstep\u001b[0;34m(self, closure)\u001b[0m\n\u001b[1;32m    105\u001b[0m                     \u001b[0mstate_steps\u001b[0m\u001b[0;34m.\u001b[0m\u001b[0mappend\u001b[0m\u001b[0;34m(\u001b[0m\u001b[0mstate\u001b[0m\u001b[0;34m[\u001b[0m\u001b[0;34m'step'\u001b[0m\u001b[0;34m]\u001b[0m\u001b[0;34m)\u001b[0m\u001b[0;34m\u001b[0m\u001b[0;34m\u001b[0m\u001b[0m\n\u001b[1;32m    106\u001b[0m \u001b[0;34m\u001b[0m\u001b[0m\n\u001b[0;32m--> 107\u001b[0;31m             F.adam(params_with_grad,\n\u001b[0m\u001b[1;32m    108\u001b[0m                    \u001b[0mgrads\u001b[0m\u001b[0;34m,\u001b[0m\u001b[0;34m\u001b[0m\u001b[0;34m\u001b[0m\u001b[0m\n\u001b[1;32m    109\u001b[0m                    \u001b[0mexp_avgs\u001b[0m\u001b[0;34m,\u001b[0m\u001b[0;34m\u001b[0m\u001b[0;34m\u001b[0m\u001b[0m\n",
      "\u001b[0;32m~/Projects/my_envs/ve_rl/lib/python3.8/site-packages/torch/optim/_functional.py\u001b[0m in \u001b[0;36madam\u001b[0;34m(params, grads, exp_avgs, exp_avg_sqs, max_exp_avg_sqs, state_steps, amsgrad, beta1, beta2, lr, weight_decay, eps)\u001b[0m\n\u001b[1;32m     85\u001b[0m         \u001b[0;31m# Decay the first and second moment running average coefficient\u001b[0m\u001b[0;34m\u001b[0m\u001b[0;34m\u001b[0m\u001b[0;34m\u001b[0m\u001b[0m\n\u001b[1;32m     86\u001b[0m         \u001b[0mexp_avg\u001b[0m\u001b[0;34m.\u001b[0m\u001b[0mmul_\u001b[0m\u001b[0;34m(\u001b[0m\u001b[0mbeta1\u001b[0m\u001b[0;34m)\u001b[0m\u001b[0;34m.\u001b[0m\u001b[0madd_\u001b[0m\u001b[0;34m(\u001b[0m\u001b[0mgrad\u001b[0m\u001b[0;34m,\u001b[0m \u001b[0malpha\u001b[0m\u001b[0;34m=\u001b[0m\u001b[0;36m1\u001b[0m \u001b[0;34m-\u001b[0m \u001b[0mbeta1\u001b[0m\u001b[0;34m)\u001b[0m\u001b[0;34m\u001b[0m\u001b[0;34m\u001b[0m\u001b[0m\n\u001b[0;32m---> 87\u001b[0;31m         \u001b[0mexp_avg_sq\u001b[0m\u001b[0;34m.\u001b[0m\u001b[0mmul_\u001b[0m\u001b[0;34m(\u001b[0m\u001b[0mbeta2\u001b[0m\u001b[0;34m)\u001b[0m\u001b[0;34m.\u001b[0m\u001b[0maddcmul_\u001b[0m\u001b[0;34m(\u001b[0m\u001b[0mgrad\u001b[0m\u001b[0;34m,\u001b[0m \u001b[0mgrad\u001b[0m\u001b[0;34m,\u001b[0m \u001b[0mvalue\u001b[0m\u001b[0;34m=\u001b[0m\u001b[0;36m1\u001b[0m \u001b[0;34m-\u001b[0m \u001b[0mbeta2\u001b[0m\u001b[0;34m)\u001b[0m\u001b[0;34m\u001b[0m\u001b[0;34m\u001b[0m\u001b[0m\n\u001b[0m\u001b[1;32m     88\u001b[0m         \u001b[0;32mif\u001b[0m \u001b[0mamsgrad\u001b[0m\u001b[0;34m:\u001b[0m\u001b[0;34m\u001b[0m\u001b[0;34m\u001b[0m\u001b[0m\n\u001b[1;32m     89\u001b[0m             \u001b[0;31m# Maintains the maximum of all 2nd moment running avg. till now\u001b[0m\u001b[0;34m\u001b[0m\u001b[0;34m\u001b[0m\u001b[0;34m\u001b[0m\u001b[0m\n",
      "\u001b[0;31mKeyboardInterrupt\u001b[0m: "
     ]
    }
   ],
   "source": [
    "def remove_env():\n",
    "    env_dict = gym.envs.registration.registry.env_specs.copy()\n",
    "\n",
    "    for env in env_dict:\n",
    "        if 'FrozenLakeNotSlippery-v1' in env:\n",
    "            print(\"Remove {} from registry\".format(env))\n",
    "            del gym.envs.registration.registry.env_specs[env]\n",
    "\n",
    "def register_env():\n",
    "    register(\n",
    "           id=\"FrozenLakeNotSlippery-v1\",\n",
    "           entry_point='gym.envs.toy_text:FrozenLakeEnv',\n",
    "           kwargs={'desc' : None, 'map_name': None, 'is_slippery': False},\n",
    "           #kwargs={'map_name': '8x8', 'is_slippery': False},\n",
    "    )\n",
    "    \n",
    "def make_env():\n",
    "    env = gym.make(\"FrozenLakeNotSlippery-v1\")\n",
    "    return env\n",
    "\n",
    "remove_env()\n",
    "register_env()\n",
    "\n",
    "env_8_8 = make_env()\n",
    "t = Trainer(env_8_8)\n",
    "\n",
    "for i in range(500):\n",
    "    env_8_8.render()\n",
    "    print(\"Train env i = {}\".format(i))\n",
    "    t.train(300)\n",
    "    env_8_8.close()\n",
    "    env_8_8 = make_env()\n",
    "    t.update_env(env_8_8)\n",
    "\n",
    "env_8_8.close()\n",
    "\n",
    "\n",
    "print(\"Testing !\")\n",
    "env_8_8 = make_env()\n",
    "state = env_8_8.reset()\n",
    "env_8_8.render()\n",
    "\n",
    "done = False\n",
    "\n",
    "while not done:\n",
    "    agent_out = t.agent(state).detach()\n",
    "    action = np.argmax(agent_out).item()\n",
    "    print(\"Take action {}\".format(action))\n",
    "    state, reward, done, _ = env_8_8.step(action)\n",
    "    env_8_8.render()\n",
    "\n",
    "env_8_8.close()"
   ]
  },
  {
   "cell_type": "code",
   "execution_count": 21,
   "id": "17497066",
   "metadata": {},
   "outputs": [],
   "source": [
    "# Example to Save model\n",
    "#t = Trainer(env)\n",
    "torch.save(t.agent.state_dict(), 'frozen_lake_8_8.pth')"
   ]
  },
  {
   "cell_type": "code",
   "execution_count": 15,
   "id": "06d9ab70",
   "metadata": {},
   "outputs": [
    {
     "data": {
      "text/plain": [
       "<All keys matched successfully>"
      ]
     },
     "execution_count": 15,
     "metadata": {},
     "output_type": "execute_result"
    }
   ],
   "source": [
    "# Example to Load model\n",
    "t = Trainer(env2)\n",
    "t.agent.load_state_dict(torch.load('frozen_lake_8_8.pth'))"
   ]
  },
  {
   "cell_type": "code",
   "execution_count": null,
   "id": "77f05f3a",
   "metadata": {},
   "outputs": [],
   "source": []
  }
 ],
 "metadata": {
  "kernelspec": {
   "display_name": "Python 3 (ipykernel)",
   "language": "python",
   "name": "python3"
  },
  "language_info": {
   "codemirror_mode": {
    "name": "ipython",
    "version": 3
   },
   "file_extension": ".py",
   "mimetype": "text/x-python",
   "name": "python",
   "nbconvert_exporter": "python",
   "pygments_lexer": "ipython3",
   "version": "3.8.10"
  }
 },
 "nbformat": 4,
 "nbformat_minor": 5
}
