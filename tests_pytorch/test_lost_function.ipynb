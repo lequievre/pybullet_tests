{
 "cells": [
  {
   "cell_type": "code",
   "execution_count": 67,
   "metadata": {},
   "outputs": [],
   "source": [
    "# Laurent LEQUIEVRE\n",
    "# Research Engineer, CNRS (France)\n",
    "# Institut Pascal UMR6602\n",
    "# laurent.lequievre@uca.fr"
   ]
  },
  {
   "cell_type": "code",
   "execution_count": 68,
   "metadata": {},
   "outputs": [],
   "source": [
    "# torch.nn contains loss functions\n",
    "\n",
    "import torch\n",
    "import torch.nn as nn"
   ]
  },
  {
   "cell_type": "code",
   "execution_count": 69,
   "metadata": {},
   "outputs": [
    {
     "name": "stdout",
     "output_type": "stream",
     "text": [
      "__python version: 3.8.10 (default, Jun  2 2021, 10:49:15) \n",
      "[GCC 9.4.0]\n",
      "__torch version: 1.9.0+cu102\n",
      "__cuda is available: True\n",
      "__cuda version : 10.2\n",
      "__number cuda devices: 1\n",
      "__available devices  1\n",
      "__current cuda device  0\n"
     ]
    }
   ],
   "source": [
    "import sys\n",
    "\n",
    "#print python version\n",
    "print('__python version:', sys.version)\n",
    "\n",
    "# print torch version\n",
    "print('__torch version:', torch.__version__)\n",
    "\n",
    "# print if cuda is available (True or False)\n",
    "print('__cuda is available:', torch.cuda.is_available())\n",
    "\n",
    "# print cuda informations\n",
    "print('__cuda version :', torch.version.cuda)\n",
    "print('__number cuda devices:', torch.cuda.device_count())\n",
    "print ('__available devices ', torch.cuda.device_count())\n",
    "print ('__current cuda device ', torch.cuda.current_device())"
   ]
  },
  {
   "cell_type": "code",
   "execution_count": 70,
   "metadata": {},
   "outputs": [
    {
     "name": "stdout",
     "output_type": "stream",
     "text": [
      "input:  tensor([[-0.7403, -0.3996,  1.1494, -2.1318,  0.0144],\n",
      "        [-0.6482, -1.0157,  0.1490,  1.5103, -0.3767],\n",
      "        [-0.5904, -0.3296,  0.9054, -0.2747,  0.5741]], device='cuda:0',\n",
      "       requires_grad=True)\n",
      "target:  tensor([[-0.4404, -2.3333, -0.3882,  0.3560,  1.2640],\n",
      "        [ 1.1103, -1.6017,  1.5992, -0.9283,  0.1860],\n",
      "        [-0.5014, -0.3676, -1.1072,  0.5219,  0.2854]], device='cuda:0')\n"
     ]
    }
   ],
   "source": [
    "my_device = torch.device(\"cuda\") # can be also \"cpu\"\n",
    "my_dtype = torch.float\n",
    "\n",
    "# Create random Tensors\n",
    "\n",
    "# This returns a tensor of size 3 × 5\n",
    "# filled with values from standard normal distribution, that is mean is 0 and variance is 1.\n",
    "# Setting requires_grad=True indicates that we want to compute gradients during the backward pass.\n",
    "input = torch.randn(3, 5, device=my_device, dtype=my_dtype, requires_grad=True) \n",
    "\n",
    "target = torch.randn(3, 5, device=my_device, dtype=my_dtype)\n",
    "\n",
    "print('input: ', input)\n",
    "print('target: ', target)"
   ]
  },
  {
   "cell_type": "code",
   "execution_count": 71,
   "metadata": {},
   "outputs": [
    {
     "name": "stdout",
     "output_type": "stream",
     "text": [
      "input size=torch.Size([3, 5]), target size=torch.Size([3, 5])\n"
     ]
    }
   ],
   "source": [
    "# Get size of tensors input and target\n",
    "print(\"input size={}, target size={}\".format(input.shape,target.shape))"
   ]
  },
  {
   "cell_type": "code",
   "execution_count": 72,
   "metadata": {},
   "outputs": [],
   "source": [
    "input.grad\n",
    "# If x is a Tensor that has x.requires_grad=True then x.grad is another Tensor holding the gradient of x \n",
    "# with respect to some scalar value.\n",
    "# No value actually !"
   ]
  },
  {
   "cell_type": "code",
   "execution_count": 73,
   "metadata": {},
   "outputs": [
    {
     "name": "stdout",
     "output_type": "stream",
     "text": [
      "loss value :  tensor(1.1686, device='cuda:0', grad_fn=<L1LossBackward>)\n"
     ]
    }
   ],
   "source": [
    "mae_loss = nn.L1Loss() # Define a loss function : The Mean Absolute Error (MAE)\n",
    "loss = mae_loss(input, target) # Apply the loss function to input and target\n",
    "print('loss value : ', loss)"
   ]
  },
  {
   "cell_type": "markdown",
   "metadata": {},
   "source": [
    "loss.backward() computes dloss/dx for every parameter x which has requires_grad=True. \n",
    "These are accumulated into x.grad for every parameter x. In pseudo-code: x.grad += dloss/dx\n",
    "\n",
    "optimizer.step updates the value of x using the gradient x.grad. \n",
    "For example, the SGD optimizer performs:\n",
    "(lr = learning rate)\n",
    "\n",
    "x += -lr * x.grad\n",
    "\n",
    "optimizer.zero_grad() clears x.grad for every parameter x in the optimizer. \n",
    "\n",
    "It’s important to call this before loss.backward(), otherwise you’ll accumulate the gradients from multiple passes.\n",
    "\n",
    "If you have multiple losses (loss1, loss2) you can sum them and then call backwards once:\n",
    "\n",
    "loss3 = loss1 + loss2\n",
    "loss3.backward()"
   ]
  },
  {
   "cell_type": "code",
   "execution_count": 74,
   "metadata": {},
   "outputs": [],
   "source": [
    "loss.backward() # compute the gradient of input tensor (the only one with requires_grad=True)"
   ]
  },
  {
   "cell_type": "code",
   "execution_count": 75,
   "metadata": {},
   "outputs": [
    {
     "data": {
      "text/plain": [
       "tensor([[-0.0667,  0.0667,  0.0667, -0.0667, -0.0667],\n",
       "        [-0.0667,  0.0667, -0.0667,  0.0667, -0.0667],\n",
       "        [-0.0667,  0.0667,  0.0667, -0.0667,  0.0667]], device='cuda:0')"
      ]
     },
     "execution_count": 75,
     "metadata": {},
     "output_type": "execute_result"
    }
   ],
   "source": [
    "# Get gradient of tensor input saved in a field named grad.\n",
    "input.grad"
   ]
  },
  {
   "cell_type": "code",
   "execution_count": 76,
   "metadata": {},
   "outputs": [
    {
     "data": {
      "text/plain": [
       "tensor([[0., 0., 0., 0., 0.],\n",
       "        [0., 0., 0., 0., 0.],\n",
       "        [0., 0., 0., 0., 0.]], device='cuda:0')"
      ]
     },
     "execution_count": 76,
     "metadata": {},
     "output_type": "execute_result"
    }
   ],
   "source": [
    "input.grad.zero_() # Manually zero the input gradient"
   ]
  },
  {
   "cell_type": "code",
   "execution_count": 77,
   "metadata": {},
   "outputs": [
    {
     "data": {
      "text/plain": [
       "tensor([[0., 0., 0., 0., 0.],\n",
       "        [0., 0., 0., 0., 0.],\n",
       "        [0., 0., 0., 0., 0.]], device='cuda:0')"
      ]
     },
     "execution_count": 77,
     "metadata": {},
     "output_type": "execute_result"
    }
   ],
   "source": [
    "input.grad"
   ]
  },
  {
   "cell_type": "code",
   "execution_count": 78,
   "metadata": {},
   "outputs": [
    {
     "name": "stdout",
     "output_type": "stream",
     "text": [
      "x=tensor([[-0.7729],\n",
      "        [ 0.6471]]), A=tensor([[-1.0801]])\n",
      "torch.matmul(x,A)=tensor([[ 0.8348],\n",
      "        [-0.6989]]), nb elem=2\n",
      "b=tensor([-0.7126])\n",
      "torch.matmul(x,A)+b=tensor([[ 0.1222],\n",
      "        [-1.4115]])\n"
     ]
    }
   ],
   "source": [
    "# Just to verify torch matmul properties\n",
    "# see : The difference between torch.mul, torch.mm, torch.bmm, torch.matmul\n",
    "# https://www.programmersought.com/article/80074664295/\n",
    "\n",
    "import torch\n",
    "\n",
    "x = torch.randn(2, 1) # torch.Size([2, 1])\n",
    "A = torch.randn(1, 1) # torch.Size([1, 1])\n",
    "b = torch.randn(1) # torch.Size([1])\n",
    "\n",
    "# torch matmul -> If both arguments are 2-dimensional, the matrix-matrix product is returned.\n",
    "result = torch.matmul(x,A) # torch.Size([2, 1])\n",
    "\n",
    "print(\"x={}, A={}\".format(x,A))\n",
    "print(\"torch.matmul(x,A)={}, nb elem={}\".format(result,result.numel()))\n",
    "print(\"b={}\".format(b))\n",
    "result2 = result + b # torch.Size([2, 1])\n",
    "print(\"torch.matmul(x,A)+b={}\".format(result2))"
   ]
  },
  {
   "cell_type": "code",
   "execution_count": 79,
   "metadata": {},
   "outputs": [
    {
     "name": "stdout",
     "output_type": "stream",
     "text": [
      "Initial values of A=tensor([[-0.6964]], requires_grad=True), b=tensor([-1.7002], requires_grad=True)\n",
      "Learning rate=0.1\n",
      "--------------------------------------------------\n",
      "0 -> loss=5.714437007904053\n",
      "A.grad=tensor([[-3.4731]]),b.grad=tensor([-3.2568])\n",
      "A=tensor([[-0.3491]], requires_grad=True), b=tensor([-1.3745], requires_grad=True)\n",
      "--------------------------------------------------\n",
      "1 -> loss=3.6726291179656982\n",
      "A.grad=tensor([[-2.7602]]),b.grad=tensor([-2.6348])\n",
      "A=tensor([[-0.0731]], requires_grad=True), b=tensor([-1.1110], requires_grad=True)\n",
      "--------------------------------------------------\n",
      "2 -> loss=2.3610503673553467\n",
      "A.grad=tensor([[-2.1940]]),b.grad=tensor([-2.1312])\n",
      "A=tensor([[0.1463]], requires_grad=True), b=tensor([-0.8979], requires_grad=True)\n",
      "--------------------------------------------------\n",
      "3 -> loss=1.5182826519012451\n",
      "A.grad=tensor([[-1.7442]]),b.grad=tensor([-1.7235])\n",
      "A=tensor([[0.3207]], requires_grad=True), b=tensor([-0.7255], requires_grad=True)\n",
      "--------------------------------------------------\n",
      "4 -> loss=0.9765946269035339\n",
      "A.grad=tensor([[-1.3869]]),b.grad=tensor([-1.3936])\n",
      "A=tensor([[0.4594]], requires_grad=True), b=tensor([-0.5862], requires_grad=True)\n",
      "--------------------------------------------------\n",
      "5 -> loss=0.6283267140388489\n",
      "A.grad=tensor([[-1.1030]]),b.grad=tensor([-1.1266])\n",
      "A=tensor([[0.5697]], requires_grad=True), b=tensor([-0.4735], requires_grad=True)\n",
      "--------------------------------------------------\n",
      "6 -> loss=0.40435367822647095\n",
      "A.grad=tensor([[-0.8774]]),b.grad=tensor([-0.9106])\n",
      "A=tensor([[0.6574]], requires_grad=True), b=tensor([-0.3824], requires_grad=True)\n",
      "--------------------------------------------------\n",
      "7 -> loss=0.26027795672416687\n",
      "A.grad=tensor([[-0.6980]]),b.grad=tensor([-0.7359])\n",
      "A=tensor([[0.7272]], requires_grad=True), b=tensor([-0.3089], requires_grad=True)\n",
      "--------------------------------------------------\n",
      "8 -> loss=0.1675749570131302\n",
      "A.grad=tensor([[-0.5554]]),b.grad=tensor([-0.5946])\n",
      "A=tensor([[0.7828]], requires_grad=True), b=tensor([-0.2494], requires_grad=True)\n",
      "--------------------------------------------------\n",
      "9 -> loss=0.10791262984275818\n",
      "A.grad=tensor([[-0.4420]]),b.grad=tensor([-0.4804])\n",
      "A=tensor([[0.8270]], requires_grad=True), b=tensor([-0.2014], requires_grad=True)\n",
      "--------------------------------------------------\n",
      "10 -> loss=0.06950609385967255\n",
      "A.grad=tensor([[-0.3518]]),b.grad=tensor([-0.3881])\n",
      "A=tensor([[0.8622]], requires_grad=True), b=tensor([-0.1625], requires_grad=True)\n",
      "--------------------------------------------------\n",
      "11 -> loss=0.04477720335125923\n",
      "A.grad=tensor([[-0.2801]]),b.grad=tensor([-0.3134])\n",
      "A=tensor([[0.8902]], requires_grad=True), b=tensor([-0.1312], requires_grad=True)\n",
      "--------------------------------------------------\n",
      "12 -> loss=0.02885163389146328\n",
      "A.grad=tensor([[-0.2230]]),b.grad=tensor([-0.2531])\n",
      "A=tensor([[0.9125]], requires_grad=True), b=tensor([-0.1059], requires_grad=True)\n",
      "--------------------------------------------------\n",
      "13 -> loss=0.018593458458781242\n",
      "A.grad=tensor([[-0.1776]]),b.grad=tensor([-0.2044])\n",
      "A=tensor([[0.9302]], requires_grad=True), b=tensor([-0.0855], requires_grad=True)\n",
      "--------------------------------------------------\n",
      "14 -> loss=0.011984561569988728\n",
      "A.grad=tensor([[-0.1415]]),b.grad=tensor([-0.1650])\n",
      "A=tensor([[0.9444]], requires_grad=True), b=tensor([-0.0690], requires_grad=True)\n",
      "--------------------------------------------------\n",
      "15 -> loss=0.007725975010544062\n",
      "A.grad=tensor([[-0.1127]]),b.grad=tensor([-0.1332])\n",
      "A=tensor([[0.9557]], requires_grad=True), b=tensor([-0.0556], requires_grad=True)\n",
      "--------------------------------------------------\n",
      "16 -> loss=0.004981383681297302\n",
      "A.grad=tensor([[-0.0898]]),b.grad=tensor([-0.1075])\n",
      "A=tensor([[0.9646]], requires_grad=True), b=tensor([-0.0449], requires_grad=True)\n",
      "--------------------------------------------------\n",
      "17 -> loss=0.0032122512347996235\n",
      "A.grad=tensor([[-0.0716]]),b.grad=tensor([-0.0868])\n",
      "A=tensor([[0.9718]], requires_grad=True), b=tensor([-0.0362], requires_grad=True)\n",
      "--------------------------------------------------\n",
      "18 -> loss=0.002071709604933858\n",
      "A.grad=tensor([[-0.0570]]),b.grad=tensor([-0.0700])\n",
      "A=tensor([[0.9775]], requires_grad=True), b=tensor([-0.0292], requires_grad=True)\n",
      "--------------------------------------------------\n",
      "19 -> loss=0.0013363035395741463\n",
      "A.grad=tensor([[-0.0455]]),b.grad=tensor([-0.0565])\n",
      "A=tensor([[0.9821]], requires_grad=True), b=tensor([-0.0236], requires_grad=True)\n"
     ]
    }
   ],
   "source": [
    "# A minimal example of SGD (Stochastic Gradient Descent)\n",
    "# without a Neural Network\n",
    "\n",
    "import torch\n",
    "import torch.nn as nn\n",
    "import torch.optim as optim\n",
    "\n",
    "N = 64 # amount of values inside the tensors\n",
    "\n",
    "# Define 2 equivalent tensors x and y with a torch.Size([64, 1])\n",
    "x0 = torch.randn(N, 1, requires_grad=False)\n",
    "x = x0\n",
    "y = x0\n",
    "\n",
    "# Define the model parameters to optimize\n",
    "A = torch.randn(1, 1, requires_grad=True) # size 1 x 1 (weights of the model) -> torch.Size([1, 1])\n",
    "b = torch.randn(1, requires_grad=True) # Size 1 (biases of the model) -> torch.Size([1])\n",
    "\n",
    "print(\"Initial values of A={}, b={}\".format(A,b))\n",
    "\n",
    "optimizer = optim.SGD([A, b], lr=1e-1) # Define SGD with [A, b] as parameters and learning rate to 1e-1\n",
    "\n",
    "print(\"Learning rate={}\".format(1e-1))\n",
    "\n",
    "for t in range(20):\n",
    "    print('-' * 50)\n",
    "    optimizer.zero_grad() # Clean gradients of A and b (because they have requires_grad to True)\n",
    "    # torch matmul -> If both arguments are 2-dimensional, the matrix-matrix product is returned.\n",
    "    y_pred = torch.matmul(x, A) + b # Calculate a noisy predicted value -> (x * A) + b\n",
    "    loss = ((y_pred - y) ** 2).mean() # Calculate loss value (y is the actual value)\n",
    "    print(\"{} -> loss={}\".format(t, loss.item())) # print loss value, need item() function to get it\n",
    "    loss.backward() # Compute gradient of A and b with loss value\n",
    "    print(\"A.grad={},b.grad={}\".format(A.grad,b.grad))\n",
    "    optimizer.step() # Update values of A and b by taking account of their gradient and the learning rate\n",
    "    # A += -lr * A.grad  ; b += -lr * b.grad\n",
    "    print(\"A={}, b={}\".format(A,b))\n"
   ]
  },
  {
   "cell_type": "code",
   "execution_count": 80,
   "metadata": {},
   "outputs": [
    {
     "name": "stdout",
     "output_type": "stream",
     "text": [
      "mean=18.0\n",
      "x grad=tensor([[3., 3.],\n",
      "        [3., 3.]])\n"
     ]
    }
   ],
   "source": [
    "# A simple test of gradient\n",
    "# To proof the result of gradient\n",
    "\n",
    "x = torch.ones(2, 2, requires_grad=True) # size 2 x 2 with all values equal to 1\n",
    "y = x + 2  # size 2 x 2 with all values equal to 3\n",
    "z = y * y * 2 # size 2 x 2 with all values equal to 18\n",
    "\n",
    "out = z.mean() # mean is equal to 18 ! (18*4/4)\n",
    "print(\"mean={}\".format(out))\n",
    "\n",
    "out.backward() # compute gradient of x\n",
    "\n",
    "print(\"x grad={}\".format(x.grad))"
   ]
  },
  {
   "cell_type": "markdown",
   "metadata": {},
   "source": [
    "<img src=\"math_demo.png\">"
   ]
  },
  {
   "cell_type": "code",
   "execution_count": 81,
   "metadata": {},
   "outputs": [
    {
     "name": "stdout",
     "output_type": "stream",
     "text": [
      "name:  weight\n",
      "<class 'torch.nn.parameter.Parameter'>\n",
      "param.shape:  torch.Size([1, 1])\n",
      "param.requires_grad:  True\n",
      "=====\n",
      "name:  bias\n",
      "<class 'torch.nn.parameter.Parameter'>\n",
      "param.shape:  torch.Size([1])\n",
      "param.requires_grad:  True\n",
      "=====\n",
      "model weight=Parameter containing:\n",
      "tensor([[-0.5860]], requires_grad=True), model bias=Parameter containing:\n",
      "tensor([-0.1954], requires_grad=True)\n",
      "--------------------------------------------------\n",
      "error = 23.932031631469727\n",
      "learned weight = -0.17585963010787964\n",
      "learned bias = 0.0979558527469635\n",
      "--------------------------------------------------\n",
      "error = 19.118099212646484\n",
      "learned weight = 0.1892572045326233\n",
      "learned bias = 0.3618992567062378\n",
      "--------------------------------------------------\n",
      "error = 15.274614334106445\n",
      "learned weight = 0.5143064856529236\n",
      "learned bias = 0.5994154214859009\n",
      "--------------------------------------------------\n",
      "error = 12.205626487731934\n",
      "learned weight = 0.8036851286888123\n",
      "learned bias = 0.8131507039070129\n",
      "--------------------------------------------------\n",
      "error = 9.754806518554688\n",
      "learned weight = 1.0613071918487549\n",
      "learned bias = 1.0054863691329956\n",
      "--------------------------------------------------\n",
      "error = 7.7974348068237305\n",
      "learned weight = 1.2906575202941895\n",
      "learned bias = 1.178565263748169\n",
      "--------------------------------------------------\n",
      "error = 6.23399543762207\n",
      "learned weight = 1.4948385953903198\n",
      "learned bias = 1.3343156576156616\n",
      "--------------------------------------------------\n",
      "error = 4.985071659088135\n",
      "learned weight = 1.676612377166748\n",
      "learned bias = 1.4744726419448853\n",
      "--------------------------------------------------\n",
      "error = 3.987286329269409\n",
      "learned weight = 1.8384376764297485\n",
      "learned bias = 1.6005975008010864\n",
      "--------------------------------------------------\n",
      "error = 3.1900534629821777\n",
      "learned weight = 1.9825035333633423\n",
      "learned bias = 1.7140953540802002\n",
      "--------------------------------------------------\n",
      "error = 2.552993059158325\n",
      "learned weight = 2.1107590198516846\n",
      "learned bias = 1.8162304162979126\n",
      "--------------------------------------------------\n",
      "error = 2.04386830329895\n",
      "learned weight = 2.2249388694763184\n",
      "learned bias = 1.9081404209136963\n",
      "--------------------------------------------------\n",
      "error = 1.6369428634643555\n",
      "learned weight = 2.3265879154205322\n",
      "learned bias = 1.9908491373062134\n",
      "--------------------------------------------------\n",
      "error = 1.3116655349731445\n",
      "learned weight = 2.417081356048584\n",
      "learned bias = 2.0652778148651123\n",
      "--------------------------------------------------\n",
      "error = 1.0516247749328613\n",
      "learned weight = 2.497643232345581\n",
      "learned bias = 2.1322555541992188\n",
      "--------------------------------------------------\n",
      "error = 0.8437138199806213\n",
      "learned weight = 2.569363594055176\n",
      "learned bias = 2.192528247833252\n",
      "--------------------------------------------------\n",
      "error = 0.6774635910987854\n",
      "learned weight = 2.6332128047943115\n",
      "learned bias = 2.246767282485962\n",
      "--------------------------------------------------\n",
      "error = 0.5445113182067871\n",
      "learned weight = 2.690054416656494\n",
      "learned bias = 2.295576572418213\n",
      "--------------------------------------------------\n",
      "error = 0.438175767660141\n",
      "learned weight = 2.7406575679779053\n",
      "learned bias = 2.3394997119903564\n",
      "--------------------------------------------------\n",
      "error = 0.353118896484375\n",
      "learned weight = 2.7857069969177246\n",
      "learned bias = 2.379026174545288\n",
      "--------------------------------------------------\n",
      "error = 0.28507447242736816\n",
      "learned weight = 2.8258121013641357\n",
      "learned bias = 2.41459584236145\n",
      "--------------------------------------------------\n",
      "error = 0.23063385486602783\n",
      "learned weight = 2.861515522003174\n",
      "learned bias = 2.4466049671173096\n",
      "--------------------------------------------------\n",
      "error = 0.1870722621679306\n",
      "learned weight = 2.8933002948760986\n",
      "learned bias = 2.475409984588623\n",
      "--------------------------------------------------\n",
      "error = 0.15221165120601654\n",
      "learned weight = 2.9215965270996094\n",
      "learned bias = 2.5013315677642822\n",
      "--------------------------------------------------\n",
      "error = 0.1243109330534935\n",
      "learned weight = 2.946787118911743\n",
      "learned bias = 2.524658441543579\n",
      "--------------------------------------------------\n",
      "error = 0.10197792947292328\n",
      "learned weight = 2.969212770462036\n",
      "learned bias = 2.5456504821777344\n",
      "--------------------------------------------------\n",
      "error = 0.08409950137138367\n",
      "learned weight = 2.9891769886016846\n",
      "learned bias = 2.5645411014556885\n",
      "--------------------------------------------------\n",
      "error = 0.06978560239076614\n",
      "learned weight = 3.0069501399993896\n",
      "learned bias = 2.581541061401367\n",
      "--------------------------------------------------\n",
      "error = 0.058323994278907776\n",
      "learned weight = 3.0227723121643066\n",
      "learned bias = 2.596839189529419\n",
      "--------------------------------------------------\n",
      "error = 0.04914548993110657\n",
      "learned weight = 3.036857843399048\n",
      "learned bias = 2.6106061935424805\n",
      "--------------------------------------------------\n",
      "error = 0.041794270277023315\n",
      "learned weight = 3.0493974685668945\n",
      "learned bias = 2.622995138168335\n",
      "--------------------------------------------------\n",
      "error = 0.03590592369437218\n",
      "learned weight = 3.060560703277588\n",
      "learned bias = 2.6341440677642822\n",
      "--------------------------------------------------\n",
      "error = 0.031188787892460823\n",
      "learned weight = 3.070498466491699\n",
      "learned bias = 2.644177198410034\n",
      "--------------------------------------------------\n",
      "error = 0.027409467846155167\n",
      "learned weight = 3.079345464706421\n",
      "learned bias = 2.6532061100006104\n",
      "--------------------------------------------------\n",
      "error = 0.02438116818666458\n",
      "learned weight = 3.087221384048462\n",
      "learned bias = 2.6613314151763916\n",
      "--------------------------------------------------\n",
      "error = 0.02195432223379612\n",
      "learned weight = 3.0942327976226807\n",
      "learned bias = 2.6686434745788574\n",
      "--------------------------------------------------\n",
      "error = 0.020009290426969528\n",
      "learned weight = 3.1004745960235596\n",
      "learned bias = 2.6752235889434814\n",
      "--------------------------------------------------\n",
      "error = 0.01845022663474083\n",
      "learned weight = 3.1060311794281006\n",
      "learned bias = 2.681145191192627\n",
      "--------------------------------------------------\n",
      "error = 0.017200389876961708\n",
      "learned weight = 3.1109778881073\n",
      "learned bias = 2.686474084854126\n",
      "--------------------------------------------------\n",
      "error = 0.016198327764868736\n",
      "learned weight = 3.1153814792633057\n",
      "learned bias = 2.691269636154175\n",
      "--------------------------------------------------\n",
      "error = 0.015394849702715874\n",
      "learned weight = 3.1193017959594727\n",
      "learned bias = 2.695585250854492\n",
      "--------------------------------------------------\n",
      "error = 0.014750485308468342\n",
      "learned weight = 3.1227917671203613\n",
      "learned bias = 2.6994688510894775\n",
      "--------------------------------------------------\n",
      "error = 0.014233702793717384\n",
      "learned weight = 3.125898599624634\n",
      "learned bias = 2.7029638290405273\n",
      "--------------------------------------------------\n",
      "error = 0.01381917204707861\n",
      "learned weight = 3.128664493560791\n",
      "learned bias = 2.706109046936035\n",
      "--------------------------------------------------\n",
      "error = 0.013486620970070362\n",
      "learned weight = 3.131126642227173\n",
      "learned bias = 2.708939552307129\n",
      "--------------------------------------------------\n",
      "error = 0.013219816610217094\n",
      "learned weight = 3.1333184242248535\n",
      "learned bias = 2.71148681640625\n",
      "--------------------------------------------------\n",
      "error = 0.013005738146603107\n",
      "learned weight = 3.1352696418762207\n",
      "learned bias = 2.7137792110443115\n",
      "--------------------------------------------------\n",
      "error = 0.012833927758038044\n",
      "learned weight = 3.1370067596435547\n",
      "learned bias = 2.7158420085906982\n",
      "--------------------------------------------------\n",
      "error = 0.01269604079425335\n",
      "learned weight = 3.1385531425476074\n",
      "learned bias = 2.717698335647583\n",
      "--------------------------------------------------\n",
      "error = 0.012585371732711792\n",
      "learned weight = 3.13992977142334\n",
      "learned bias = 2.7193689346313477\n"
     ]
    }
   ],
   "source": [
    "# A minimal example of SGD (Stochastic Gradient Descent)\n",
    "# with a Neural Network\n",
    "\n",
    "import torch\n",
    "import torch.nn as nn\n",
    "import torch.optim as optim\n",
    "#from torchsummary import summary  # pip install torchsummary\n",
    "\n",
    "# Let's make some data for a linear regression.\n",
    "A = 3.1415926\n",
    "B = 2.7189351\n",
    "error = 0.1\n",
    "N = 100 # number of data points\n",
    "\n",
    "# Data\n",
    "input_data = torch.randn(N, 1)\n",
    "\n",
    "# (noisy) Target values that we want to learn.\n",
    "target = A * input_data + B + (torch.randn(N, 1) * error)\n",
    "\n",
    "# Creating a model, making the optimizer, defining loss\n",
    "model = nn.Linear(1, 1) \n",
    "# create a Neural Network Linear with in_features=1 and out_features=1 (nn.Linear(in_features,ou_features))\n",
    "# Applies a linear transformation to the incoming x data: y = x*W^T + b\n",
    "# Note that the weights W have shape (out_features, in_features) and biases b have shape (out_features).\n",
    "\n",
    "# Verify model tensors parameters :\n",
    "for name, param in model.named_parameters():\n",
    "    print('name: ', name)\n",
    "    print(type(param))\n",
    "    print('param.shape: ', param.shape)\n",
    "    print('param.requires_grad: ', param.requires_grad)\n",
    "    print('=====')\n",
    "\n",
    "# name:  weight\n",
    "# <class 'torch.nn.parameter.Parameter'>\n",
    "# param.shape:  torch.Size([1, 1])\n",
    "# param.requires_grad:  True\n",
    "# =====\n",
    "# name:  bias\n",
    "# <class 'torch.nn.parameter.Parameter'>\n",
    "# param.shape:  torch.Size([1])\n",
    "#param.requires_grad:  True\n",
    "# =====\n",
    "\n",
    "print(\"model weight={}, model bias={}\".format(model.weight,model.bias))\n",
    "\n",
    "#model_summary(model)\n",
    "\n",
    "optimizer = optim.SGD(model.parameters(), lr=0.05)\n",
    "loss_fn = nn.MSELoss()  # the mean squared error (squared L2 norm)\n",
    "\n",
    "# Run training\n",
    "nb_iter = 50\n",
    "for _ in range(0, nb_iter):\n",
    "    optimizer.zero_grad() # Clear gradient values of model parameters\n",
    "    predictions = model(input_data)\n",
    "    # forward input_data into the model\n",
    "    # So multiply input_data to weight tensor parameter inside model\n",
    "    # Sizes are : input_data -> torch.Size([100, 1]) ; weight -> torch.Size([1, 1])\n",
    "    # torch.matmul(input_data,weight) -> torch.Size([100, 1])\n",
    "    # If both arguments are at least 1-dimensional and at least one argument is N-dimensional (where N > 2), \n",
    "    # then a batched matrix multiply is returned\n",
    "    # Then add bias tensor of size : torch.Size([1])\n",
    "    # and get a prediction -> torch.Size([100, 1])\n",
    "    loss = loss_fn(predictions, target) # calculate loss value\n",
    "    loss.backward() # calculate gradient values\n",
    "    optimizer.step() # update model parameters with gradient values\n",
    "\n",
    "    print(\"-\" * 50)\n",
    "    print(\"error = {}\".format(loss.item()))\n",
    "    print(\"learned weight = {}\".format(list(model.parameters())[0].data[0, 0]))\n",
    "    print(\"learned bias = {}\".format(list(model.parameters())[1].data[0]))\n",
    "    "
   ]
  },
  {
   "cell_type": "code",
   "execution_count": 82,
   "metadata": {},
   "outputs": [
    {
     "name": "stdout",
     "output_type": "stream",
     "text": [
      "name:  weight\n",
      "<class 'torch.nn.parameter.Parameter'>\n",
      "param.shape:  torch.Size([14, 8])\n",
      "param.requires_grad:  True\n",
      "=====\n",
      "name:  bias\n",
      "<class 'torch.nn.parameter.Parameter'>\n",
      "param.shape:  torch.Size([14])\n",
      "param.requires_grad:  True\n",
      "=====\n",
      "Output size: torch.Size([64, 14])\n"
     ]
    }
   ],
   "source": [
    "# An other test with nn.Linear, to verify sizes\n",
    "\n",
    "input_size = 8\n",
    "output_size = 14\n",
    "batch_size = 64\n",
    "\n",
    "input = torch.FloatTensor(batch_size, input_size) # torch.Size([64, 8])\n",
    "\n",
    "net = nn.Linear(input_size, output_size) # in_features=8, out_features=14\n",
    "# net parameters -> W (weight) shape is (out_features, in_features) and b (biases) shape is (out_features)\n",
    "# W=(14x8), W^T=(8x14), b=(14), input(64x8)\n",
    "# output = input*W^T + b\n",
    "# output=(64x14)\n",
    "# rmq: operator + add tensor b to each line of tensor input*W^T\n",
    "\n",
    "for name, param in net.named_parameters():\n",
    "    print('name: ', name)\n",
    "    print(type(param))\n",
    "    print('param.shape: ', param.shape)\n",
    "    print('param.requires_grad: ', param.requires_grad)\n",
    "    print('=====')\n",
    "\n",
    "# name:  weight\n",
    "# <class 'torch.nn.parameter.Parameter'>\n",
    "# param.shape:  torch.Size([14, 8])\n",
    "# param.requires_grad:  True\n",
    "# =====\n",
    "# name:  bias\n",
    "# <class 'torch.nn.parameter.Parameter'>\n",
    "# param.shape:  torch.Size([14])\n",
    "# param.requires_grad:  True\n",
    "\n",
    "output = net(input)  # forward input into net\n",
    "\n",
    "print(\"Output size:\", output.size()) # torch.Size([64, 14])"
   ]
  },
  {
   "cell_type": "code",
   "execution_count": 83,
   "metadata": {},
   "outputs": [
    {
     "name": "stdout",
     "output_type": "stream",
     "text": [
      "tensor([[ 1.6590, -1.1129, -0.5345,  0.7154,  1.3856],\n",
      "        [-0.1057, -0.6941,  0.3661,  0.2485,  0.4170],\n",
      "        [-0.8194, -0.0582, -0.4577, -0.9523, -0.1293],\n",
      "        [-0.2390, -0.3480,  0.3054, -0.7721, -0.4149]])\n",
      "tensor([-0.4298, -1.9213,  0.1027,  0.4520, -1.4254])\n",
      "tensor([[ 1.2292, -3.0342, -0.4318,  1.1674, -0.0398],\n",
      "        [-0.5356, -2.6154,  0.4688,  0.7005, -1.0085],\n",
      "        [-1.2492, -1.9795, -0.3551, -0.5003, -1.5548],\n",
      "        [-0.6688, -2.2693,  0.4081, -0.3201, -1.8404]])\n"
     ]
    }
   ],
   "source": [
    "tensor1 = torch.randn(4, 5)\n",
    "tensor2 = torch.randn(5)\n",
    "print(tensor1)\n",
    "print(tensor2)\n",
    "r = tensor1 + tensor2\n",
    "print(r)"
   ]
  },
  {
   "cell_type": "code",
   "execution_count": 98,
   "metadata": {},
   "outputs": [
    {
     "name": "stdout",
     "output_type": "stream",
     "text": [
      "x-> shape[0] = 3, shape[1] = 2\n"
     ]
    }
   ],
   "source": [
    "import torch\n",
    "import torch.nn as nn\n",
    "\n",
    "# Create a tensor of 3 rows x 2 columns\n",
    "x = torch.tensor([[1.0, -1.0], \n",
    "                  [0.0, 1.0], \n",
    "                  [0.0, 0.0]])\n",
    "\n",
    "print(\"x-> shape[0] = {}, shape[1] = {}\".format(x.shape[0], x.shape[1]))\n",
    "\n",
    "# x contains 3 inputs (i.e. the batch size is 3), x[0], x[1] and x[2], each of size 2\n",
    "\n",
    "in_features = x.shape[1] # 2 columns\n",
    "out_features = 2\n",
    "\n",
    "net = nn.Linear(in_features, out_features)\n"
   ]
  },
  {
   "cell_type": "markdown",
   "metadata": {},
   "source": [
    "![Network Linear 2 x 2](nn_Linear_2_x_2.png)"
   ]
  },
  {
   "cell_type": "code",
   "execution_count": 99,
   "metadata": {},
   "outputs": [
    {
     "data": {
      "text/plain": [
       "Parameter containing:\n",
       "tensor([[-0.5094, -0.2481],\n",
       "        [-0.1743,  0.2661]], requires_grad=True)"
      ]
     },
     "execution_count": 99,
     "metadata": {},
     "output_type": "execute_result"
    }
   ],
   "source": [
    "net.weight"
   ]
  },
  {
   "cell_type": "code",
   "execution_count": 100,
   "metadata": {},
   "outputs": [
    {
     "data": {
      "text/plain": [
       "tensor([[-0.5094, -0.1743],\n",
       "        [-0.2481,  0.2661]], grad_fn=<TBackward>)"
      ]
     },
     "execution_count": 100,
     "metadata": {},
     "output_type": "execute_result"
    }
   ],
   "source": [
    "net.weight.t() # W^T"
   ]
  },
  {
   "cell_type": "code",
   "execution_count": 101,
   "metadata": {},
   "outputs": [
    {
     "data": {
      "text/plain": [
       "Parameter containing:\n",
       "tensor([ 0.5107, -0.0022], requires_grad=True)"
      ]
     },
     "execution_count": 101,
     "metadata": {},
     "output_type": "execute_result"
    }
   ],
   "source": [
    "net.bias"
   ]
  },
  {
   "cell_type": "code",
   "execution_count": 102,
   "metadata": {},
   "outputs": [
    {
     "data": {
      "text/plain": [
       "tensor([[ 0.2495, -0.4427],\n",
       "        [ 0.2626,  0.2639],\n",
       "        [ 0.5107, -0.0022]], grad_fn=<AddmmBackward>)"
      ]
     },
     "execution_count": 102,
     "metadata": {},
     "output_type": "execute_result"
    }
   ],
   "source": [
    "# x contains 3 inputs (i.e. the batch size is 3), x[0], x[1] and x[2], each of size 2\n",
    "# the output is going to be of shape (batch size, out_features) = (3, 2)\n",
    "\n",
    "predict = net(x)\n",
    "\n",
    "predict"
   ]
  },
  {
   "cell_type": "code",
   "execution_count": 103,
   "metadata": {},
   "outputs": [
    {
     "data": {
      "text/plain": [
       "tensor([[ 0.2495, -0.4427],\n",
       "        [ 0.2626,  0.2639],\n",
       "        [ 0.5107, -0.0022]], grad_fn=<AddBackward0>)"
      ]
     },
     "execution_count": 103,
     "metadata": {},
     "output_type": "execute_result"
    }
   ],
   "source": [
    "y = x.matmul(net.weight.t()) + net.bias\n",
    "\n",
    "y"
   ]
  },
  {
   "cell_type": "code",
   "execution_count": 90,
   "metadata": {},
   "outputs": [],
   "source": [
    "# predict is compute like this :\n",
    "# predict = x.matmul(net.weight.t()) + net.bias  # y = x*W^T + b\n",
    "\n",
    "# where i is in interval [0, batch_size) and j in [0, out_features).\n",
    "# predict[i,j] == x[i,0] * net.weight[j,0] + x[i,1] * net.weight[j,1] + net.bias[j]\n",
    "\n",
    "# i = 0\n",
    "# j = 0\n",
    "# predict[0,0] = x[0,0] * net.weight[0,0] + x[0,1] * net.weight[0,1] + net.bias[0]\n",
    "# j = 1\n",
    "# predict[0,1] = x[0,0] * net.weight[1,0] + x[0,1] * net.weight[1,1] + net.bias[1]\n",
    "\n",
    "# i = 1\n",
    "# j = 0\n",
    "# predict[1,0] = x[1,0] * net.weight[0,0] + x[1,1] * net.weight[0,1] + net.bias[0]\n",
    "# j = 1\n",
    "# predict[1,1] = x[1,0] * net.weight[1,0] + x[1,1] * net.weight[1,1] + net.bias[1]\n",
    "\n",
    "\n",
    "# Weight   ( [0,0], [0,1]\n",
    "#            [1,0], [1,1] )\n",
    "\n",
    "# Weight^T ( [0,0], [1,0]\n",
    "#            [0,1], [1,1] )\n",
    "\n"
   ]
  },
  {
   "cell_type": "code",
   "execution_count": 149,
   "metadata": {},
   "outputs": [],
   "source": [
    "in_features = 3\n",
    "out_features = 2\n",
    "net2 = nn.Linear(in_features, out_features)"
   ]
  },
  {
   "cell_type": "markdown",
   "metadata": {},
   "source": [
    "![Network Linear 3 x 2](nn_Linear_3_x_2.png)"
   ]
  },
  {
   "cell_type": "code",
   "execution_count": 150,
   "metadata": {},
   "outputs": [
    {
     "data": {
      "text/plain": [
       "Parameter containing:\n",
       "tensor([[-0.1512, -0.1415,  0.0083],\n",
       "        [ 0.4374,  0.5671,  0.2462]], requires_grad=True)"
      ]
     },
     "execution_count": 150,
     "metadata": {},
     "output_type": "execute_result"
    }
   ],
   "source": [
    "net2.weight"
   ]
  },
  {
   "cell_type": "code",
   "execution_count": 151,
   "metadata": {},
   "outputs": [
    {
     "data": {
      "text/plain": [
       "Parameter containing:\n",
       "tensor([-0.3472,  0.4851], requires_grad=True)"
      ]
     },
     "execution_count": 151,
     "metadata": {},
     "output_type": "execute_result"
    }
   ],
   "source": [
    "net2.bias"
   ]
  },
  {
   "cell_type": "code",
   "execution_count": 152,
   "metadata": {},
   "outputs": [
    {
     "data": {
      "text/plain": [
       "tensor([[-0.1512,  0.4374],\n",
       "        [-0.1415,  0.5671],\n",
       "        [ 0.0083,  0.2462]], grad_fn=<TBackward>)"
      ]
     },
     "execution_count": 152,
     "metadata": {},
     "output_type": "execute_result"
    }
   ],
   "source": [
    "net2.weight.t()"
   ]
  },
  {
   "cell_type": "code",
   "execution_count": 153,
   "metadata": {},
   "outputs": [],
   "source": [
    "# Create a tensor of 4 rows x 3 columns\n",
    "x2 = torch.tensor([[1.0, -1.0, 2.0], \n",
    "                  [0.0, 1.0, -5.0], \n",
    "                  [0.0, 0.0, 1.0],\n",
    "                  [-2.0, 1.0, 0.0]])\n",
    "\n",
    "# x2 contains 4 inputs (i.e. the batch size is 4), x[0], x[1], x[2] and x[3], each of size 3\n",
    "# the output is going to be of shape (batch size = 4, out_features) = (4, 2)"
   ]
  },
  {
   "cell_type": "code",
   "execution_count": 155,
   "metadata": {},
   "outputs": [
    {
     "name": "stdout",
     "output_type": "stream",
     "text": [
      "tensor([[-0.3402,  0.8478],\n",
      "        [-0.5304, -0.1786],\n",
      "        [-0.3389,  0.7313],\n",
      "        [-0.1864,  0.1774]], grad_fn=<AddmmBackward>)\n"
     ]
    }
   ],
   "source": [
    "predict2 = net2(x2)\n",
    "\n",
    "print(predict2)"
   ]
  },
  {
   "cell_type": "code",
   "execution_count": 157,
   "metadata": {},
   "outputs": [
    {
     "name": "stdout",
     "output_type": "stream",
     "text": [
      "tensor([[-0.1512,  0.4374],\n",
      "        [-0.1415,  0.5671],\n",
      "        [ 0.0083,  0.2462]], grad_fn=<TBackward>)\n",
      "tensor([[0., 0.],\n",
      "        [0., 0.],\n",
      "        [0., 0.],\n",
      "        [0., 0.]])\n"
     ]
    }
   ],
   "source": [
    "# Calculate the prediction by myself\n",
    "\n",
    "net2_wt = net2.weight.t()\n",
    "\n",
    "print(net2_wt)\n",
    "\n",
    "y = torch.zeros((x2.shape[0], out_features))\n",
    "\n",
    "print(y)"
   ]
  },
  {
   "cell_type": "code",
   "execution_count": 158,
   "metadata": {},
   "outputs": [
    {
     "name": "stdout",
     "output_type": "stream",
     "text": [
      "y[0,0] += x2[0,0]*wt[0,0]\n",
      "y[0,0] += x2[0,1]*wt[1,0]\n",
      "y[0,0] += x2[0,2]*wt[2,0]\n",
      "y[0,0] += bias[0]\n",
      "y[0,1] += x2[0,0]*wt[0,1]\n",
      "y[0,1] += x2[0,1]*wt[1,1]\n",
      "y[0,1] += x2[0,2]*wt[2,1]\n",
      "y[0,1] += bias[1]\n",
      "y[1,0] += x2[1,0]*wt[0,0]\n",
      "y[1,0] += x2[1,1]*wt[1,0]\n",
      "y[1,0] += x2[1,2]*wt[2,0]\n",
      "y[1,0] += bias[0]\n",
      "y[1,1] += x2[1,0]*wt[0,1]\n",
      "y[1,1] += x2[1,1]*wt[1,1]\n",
      "y[1,1] += x2[1,2]*wt[2,1]\n",
      "y[1,1] += bias[1]\n",
      "y[2,0] += x2[2,0]*wt[0,0]\n",
      "y[2,0] += x2[2,1]*wt[1,0]\n",
      "y[2,0] += x2[2,2]*wt[2,0]\n",
      "y[2,0] += bias[0]\n",
      "y[2,1] += x2[2,0]*wt[0,1]\n",
      "y[2,1] += x2[2,1]*wt[1,1]\n",
      "y[2,1] += x2[2,2]*wt[2,1]\n",
      "y[2,1] += bias[1]\n",
      "y[3,0] += x2[3,0]*wt[0,0]\n",
      "y[3,0] += x2[3,1]*wt[1,0]\n",
      "y[3,0] += x2[3,2]*wt[2,0]\n",
      "y[3,0] += bias[0]\n",
      "y[3,1] += x2[3,0]*wt[0,1]\n",
      "y[3,1] += x2[3,1]*wt[1,1]\n",
      "y[3,1] += x2[3,2]*wt[2,1]\n",
      "y[3,1] += bias[1]\n"
     ]
    },
    {
     "data": {
      "text/plain": [
       "tensor([[-0.3402,  0.8478],\n",
       "        [-0.5304, -0.1786],\n",
       "        [-0.3389,  0.7313],\n",
       "        [-0.1864,  0.1774]], grad_fn=<CopySlices>)"
      ]
     },
     "execution_count": 158,
     "metadata": {},
     "output_type": "execute_result"
    }
   ],
   "source": [
    "for i in range(x2.shape[0]): # each rows of x2\n",
    "    for j in range(net2_wt.shape[1]): # each columns of net2^T\n",
    "        for k in range(net2_wt.shape[0]): # each rows of net2^T\n",
    "           y[i,j] += x2[i,k] * net2_wt[k,j]\n",
    "           print(\"y[{},{}] += x2[{},{}]*wt[{},{}]\".format(i,j,i,k,k,j))\n",
    "        \n",
    "        y[i,j] += net2.bias[j]\n",
    "        print(\"y[{},{}] += bias[{}]\".format(i,j,j))\n",
    "    \n",
    "   \n",
    "\n",
    "y"
   ]
  },
  {
   "cell_type": "code",
   "execution_count": null,
   "metadata": {},
   "outputs": [],
   "source": []
  }
 ],
 "metadata": {
  "kernelspec": {
   "display_name": "Python 3 (ipykernel)",
   "language": "python",
   "name": "python3"
  },
  "language_info": {
   "codemirror_mode": {
    "name": "ipython",
    "version": 3
   },
   "file_extension": ".py",
   "mimetype": "text/x-python",
   "name": "python",
   "nbconvert_exporter": "python",
   "pygments_lexer": "ipython3",
   "version": "3.8.10"
  }
 },
 "nbformat": 4,
 "nbformat_minor": 4
}
